{
 "cells": [
  {
   "cell_type": "code",
   "execution_count": 1,
   "metadata": {},
   "outputs": [],
   "source": [
    "import pandas as pd\n",
    "import math\n",
    "from sklearn.model_selection import train_test_split"
   ]
  },
  {
   "cell_type": "code",
   "execution_count": 2,
   "metadata": {},
   "outputs": [],
   "source": [
    "df_cmv=pd.read_csv(\"../data/cmv_original.csv\")"
   ]
  },
  {
   "cell_type": "code",
   "execution_count": 3,
   "metadata": {},
   "outputs": [
    {
     "data": {
      "text/plain": [
       "Assumption          2724\n",
       "Continue            1661\n",
       "None                1487\n",
       "Anecdote             323\n",
       "Statistics/Study      81\n",
       "Definition            65\n",
       "Other                 30\n",
       "Testimony             28\n",
       "Name: gold_label, dtype: int64"
      ]
     },
     "execution_count": 3,
     "metadata": {},
     "output_type": "execute_result"
    }
   ],
   "source": [
    "df_cmv[\"gold_label\"].value_counts()"
   ]
  },
  {
   "cell_type": "code",
   "execution_count": 4,
   "metadata": {},
   "outputs": [],
   "source": [
    "def update_items(df, row_name):\n",
    "    last_item = df[row_name].loc[0]\n",
    "    updated_items = []\n",
    "    for _, item in df[row_name].iteritems():\n",
    "        if item != \"Continue\":\n",
    "            last_item = item\n",
    "        updated_items.append(last_item)\n",
    "\n",
    "    df[f\"{row_name}_updated\"] = updated_items\n",
    "\n",
    "update_items(df_cmv, \"a1\")\n",
    "update_items(df_cmv, \"a2\")\n",
    "update_items(df_cmv, \"a3\")"
   ]
  },
  {
   "cell_type": "code",
   "execution_count": 5,
   "metadata": {},
   "outputs": [],
   "source": [
    "# update gold label\n",
    "df_cmv[\"gold_label_updated\"] = [float(\"nan\")] * len(df_cmv[\"gold_label\"])\n",
    "\n",
    "for i, row in df_cmv.iterrows():\n",
    "\n",
    "    a1, a2, a3 = str(row[\"a1_updated\"]), str(row[\"a2_updated\"]), str(row[\"a3_updated\"])\n",
    "    counts = {}\n",
    "\n",
    "    v_a1 = counts.get(a1, 0)\n",
    "    counts[a1] = v_a1 + 1\n",
    "    v_a2 = counts.get(a2, 0)\n",
    "    counts[a2] = v_a2 + 1\n",
    "    v_a3 = counts.get(a3, 0)\n",
    "    counts[a3] = v_a3 + 1\n",
    "\n",
    "    max_count = max(counts.values())\n",
    "    max_count_keys = [k for k, v in counts.items() if v == max_count]\n",
    "\n",
    "    if a1 == 'nan' and a2 == 'nan' and a3 == 'nan':\n",
    "        df_cmv.at[i, \"gold_label_updated\"] = row['gold_label'] if row['gold_label'] != \"Continue\" else float(\"nan\")\n",
    "    elif max_count == 1:\n",
    "        df_cmv.at[i, \"gold_label_updated\"] = float(\"nan\")\n",
    "    else:\n",
    "        df_cmv.at[i, \"gold_label_updated\"] = max_count_keys[0]"
   ]
  },
  {
   "cell_type": "code",
   "execution_count": 6,
   "metadata": {},
   "outputs": [
    {
     "data": {
      "text/html": [
       "<div>\n",
       "<style scoped>\n",
       "    .dataframe tbody tr th:only-of-type {\n",
       "        vertical-align: middle;\n",
       "    }\n",
       "\n",
       "    .dataframe tbody tr th {\n",
       "        vertical-align: top;\n",
       "    }\n",
       "\n",
       "    .dataframe thead th {\n",
       "        text-align: right;\n",
       "    }\n",
       "</style>\n",
       "<table border=\"1\" class=\"dataframe\">\n",
       "  <thead>\n",
       "    <tr style=\"text-align: right;\">\n",
       "      <th></th>\n",
       "      <th>a1_updated</th>\n",
       "      <th>a2_updated</th>\n",
       "      <th>a3_updated</th>\n",
       "      <th>gold_label</th>\n",
       "      <th>gold_label_updated</th>\n",
       "    </tr>\n",
       "  </thead>\n",
       "  <tbody>\n",
       "    <tr>\n",
       "      <th>6624</th>\n",
       "      <td>NaN</td>\n",
       "      <td>NaN</td>\n",
       "      <td>NaN</td>\n",
       "      <td>None</td>\n",
       "      <td>None</td>\n",
       "    </tr>\n",
       "    <tr>\n",
       "      <th>6625</th>\n",
       "      <td>NaN</td>\n",
       "      <td>NaN</td>\n",
       "      <td>NaN</td>\n",
       "      <td>Assumption</td>\n",
       "      <td>Assumption</td>\n",
       "    </tr>\n",
       "    <tr>\n",
       "      <th>6626</th>\n",
       "      <td>NaN</td>\n",
       "      <td>NaN</td>\n",
       "      <td>NaN</td>\n",
       "      <td>None</td>\n",
       "      <td>None</td>\n",
       "    </tr>\n",
       "    <tr>\n",
       "      <th>6627</th>\n",
       "      <td>NaN</td>\n",
       "      <td>NaN</td>\n",
       "      <td>NaN</td>\n",
       "      <td>Assumption</td>\n",
       "      <td>Assumption</td>\n",
       "    </tr>\n",
       "    <tr>\n",
       "      <th>6628</th>\n",
       "      <td>NaN</td>\n",
       "      <td>NaN</td>\n",
       "      <td>NaN</td>\n",
       "      <td>Assumption</td>\n",
       "      <td>Assumption</td>\n",
       "    </tr>\n",
       "  </tbody>\n",
       "</table>\n",
       "</div>"
      ],
      "text/plain": [
       "     a1_updated a2_updated a3_updated  gold_label gold_label_updated\n",
       "6624        NaN        NaN        NaN        None               None\n",
       "6625        NaN        NaN        NaN  Assumption         Assumption\n",
       "6626        NaN        NaN        NaN        None               None\n",
       "6627        NaN        NaN        NaN  Assumption         Assumption\n",
       "6628        NaN        NaN        NaN  Assumption         Assumption"
      ]
     },
     "execution_count": 6,
     "metadata": {},
     "output_type": "execute_result"
    }
   ],
   "source": [
    "df_cmv[[\"a1_updated\", \"a2_updated\", \"a3_updated\", \"gold_label\", \"gold_label_updated\"]].tail()"
   ]
  },
  {
   "cell_type": "code",
   "execution_count": 7,
   "metadata": {},
   "outputs": [],
   "source": [
    "def is_nan_or_none(x):\n",
    "    if isinstance(x, float):\n",
    "        return not math.isnan(x)\n",
    "    elif isinstance(x, str):\n",
    "        return x != \"None\"\n",
    "    else:\n",
    "        return bool(x)\n",
    "\n",
    "df_cmv_filtered = df_cmv[df_cmv[\"gold_label_updated\"].apply(is_nan_or_none)]"
   ]
  },
  {
   "cell_type": "code",
   "execution_count": 8,
   "metadata": {},
   "outputs": [
    {
     "data": {
      "text/plain": [
       "Assumption          2861\n",
       "Anecdote             370\n",
       "Statistics/Study      82\n",
       "Definition            66\n",
       "Other                 38\n",
       "Testimony             33\n",
       "Common ground          1\n",
       "Name: gold_label_updated, dtype: int64"
      ]
     },
     "execution_count": 8,
     "metadata": {},
     "output_type": "execute_result"
    }
   ],
   "source": [
    "df_cmv_filtered[\"gold_label_updated\"].value_counts()"
   ]
  },
  {
   "cell_type": "code",
   "execution_count": 9,
   "metadata": {},
   "outputs": [
    {
     "data": {
      "text/plain": [
       "Assumption          2724\n",
       "Continue            1661\n",
       "None                1487\n",
       "Anecdote             323\n",
       "Statistics/Study      81\n",
       "Definition            65\n",
       "Other                 30\n",
       "Testimony             28\n",
       "Name: gold_label, dtype: int64"
      ]
     },
     "execution_count": 9,
     "metadata": {},
     "output_type": "execute_result"
    }
   ],
   "source": [
    "df_cmv[\"gold_label\"].value_counts()"
   ]
  },
  {
   "cell_type": "code",
   "execution_count": 10,
   "metadata": {},
   "outputs": [],
   "source": [
    "df_cmv_distilled = df_cmv_filtered[['thread_id', 'comment_id', 'sentence', 'a1_updated', 'a2_updated', 'a3_updated', 'gold_label_updated']]\n",
    "df_cmv_distilled = df_cmv_distilled[((df_cmv_distilled[\"gold_label_updated\"] == \"Definition\") | (df_cmv_distilled[\"gold_label_updated\"] == \"Common ground\")) == False]\n",
    "df_cmv_distilled.columns = ['thread_id', 'comment_id', 'sentence', 'a1', 'a2', 'a3', 'label']\n",
    "df_cmv_distilled[\"label\"] = df_cmv_distilled[\"label\"].str.lower()\n",
    "df_cmv_distilled[\"label\"] = df_cmv_distilled[\"label\"].str.replace(\"statistics/study\", \"statistics\")"
   ]
  },
  {
   "cell_type": "code",
   "execution_count": 11,
   "metadata": {},
   "outputs": [
    {
     "data": {
      "text/plain": [
       "assumption    2861\n",
       "anecdote       370\n",
       "statistics      82\n",
       "other           38\n",
       "testimony       33\n",
       "Name: label, dtype: int64"
      ]
     },
     "execution_count": 11,
     "metadata": {},
     "output_type": "execute_result"
    }
   ],
   "source": [
    "df_cmv_distilled[\"label\"].value_counts()"
   ]
  },
  {
   "cell_type": "code",
   "execution_count": 12,
   "metadata": {},
   "outputs": [],
   "source": [
    "train, test = train_test_split(df_cmv_distilled, test_size=0.4, random_state=42, stratify=df_cmv_distilled[\"label\"])"
   ]
  },
  {
   "cell_type": "code",
   "execution_count": 13,
   "metadata": {},
   "outputs": [
    {
     "data": {
      "text/plain": [
       "assumption    1716\n",
       "anecdote       222\n",
       "statistics      49\n",
       "other           23\n",
       "testimony       20\n",
       "Name: label, dtype: int64"
      ]
     },
     "execution_count": 13,
     "metadata": {},
     "output_type": "execute_result"
    }
   ],
   "source": [
    "train[\"label\"].value_counts()"
   ]
  },
  {
   "cell_type": "code",
   "execution_count": 14,
   "metadata": {},
   "outputs": [
    {
     "data": {
      "text/plain": [
       "assumption    1145\n",
       "anecdote       148\n",
       "statistics      33\n",
       "other           15\n",
       "testimony       13\n",
       "Name: label, dtype: int64"
      ]
     },
     "execution_count": 14,
     "metadata": {},
     "output_type": "execute_result"
    }
   ],
   "source": [
    "test[\"label\"].value_counts()"
   ]
  },
  {
   "cell_type": "code",
   "execution_count": 15,
   "metadata": {},
   "outputs": [],
   "source": [
    "train.to_csv(\"../data/cmv_train.csv\", index=False)\n",
    "test.to_csv(\"../data/cmv_test.csv\", index=False)"
   ]
  },
  {
   "cell_type": "code",
   "execution_count": null,
   "metadata": {},
   "outputs": [],
   "source": []
  }
 ],
 "metadata": {
  "interpreter": {
   "hash": "ef0baf6d8be2d5e36d7cf9c55cfbad6339e5c1a472d19bff39d17af1061bd70a"
  },
  "kernelspec": {
   "display_name": "Python 3.8.10 ('ltp-project-JPCASTvD-py3.8')",
   "language": "python",
   "name": "python3"
  },
  "language_info": {
   "codemirror_mode": {
    "name": "ipython",
    "version": 3
   },
   "file_extension": ".py",
   "mimetype": "text/x-python",
   "name": "python",
   "nbconvert_exporter": "python",
   "pygments_lexer": "ipython3",
   "version": "3.8.10"
  },
  "orig_nbformat": 4
 },
 "nbformat": 4,
 "nbformat_minor": 2
}

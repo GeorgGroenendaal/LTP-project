{
 "cells": [
  {
   "cell_type": "code",
   "execution_count": 5,
   "id": "1ecd2211",
   "metadata": {},
   "outputs": [],
   "source": [
    "import pandas as pd\n",
    "import json\n",
    "import seaborn as sns\n",
    "import matplotlib.pyplot as plt\n",
    "import numpy as np\n",
    "from sklearn.model_selection import train_test_split\n",
    "import spacy"
   ]
  },
  {
   "cell_type": "code",
   "execution_count": 6,
   "id": "30e18244",
   "metadata": {},
   "outputs": [],
   "source": [
    "df=pd.read_csv(\"../data/newcorp.csv\")"
   ]
  },
  {
   "cell_type": "code",
   "execution_count": 7,
   "id": "ec85f83f",
   "metadata": {},
   "outputs": [
    {
     "data": {
      "text/html": [
       "<div>\n",
       "<style scoped>\n",
       "    .dataframe tbody tr th:only-of-type {\n",
       "        vertical-align: middle;\n",
       "    }\n",
       "\n",
       "    .dataframe tbody tr th {\n",
       "        vertical-align: top;\n",
       "    }\n",
       "\n",
       "    .dataframe thead th {\n",
       "        text-align: right;\n",
       "    }\n",
       "</style>\n",
       "<table border=\"1\" class=\"dataframe\">\n",
       "  <thead>\n",
       "    <tr style=\"text-align: right;\">\n",
       "      <th></th>\n",
       "      <th>article_id</th>\n",
       "      <th>title</th>\n",
       "      <th>article_text</th>\n",
       "      <th>summary_1_text</th>\n",
       "      <th>summary_2_text</th>\n",
       "      <th>summary_3_text</th>\n",
       "      <th>summary_4_text</th>\n",
       "      <th>summary_5_text</th>\n",
       "      <th>thesis_1_text</th>\n",
       "      <th>thesis_2_text</th>\n",
       "      <th>...</th>\n",
       "      <th>thesis_5_text</th>\n",
       "      <th>lead</th>\n",
       "      <th>body</th>\n",
       "      <th>conclusion</th>\n",
       "      <th>article_segments</th>\n",
       "      <th>summary_1_segments</th>\n",
       "      <th>summary_2_segments</th>\n",
       "      <th>summary_3_segments</th>\n",
       "      <th>summary_4_segments</th>\n",
       "      <th>summary_5_segments</th>\n",
       "    </tr>\n",
       "  </thead>\n",
       "  <tbody>\n",
       "    <tr>\n",
       "      <td>0</td>\n",
       "      <td>1</td>\n",
       "      <td>2015: Beyond Obama, new Congress, we need a re...</td>\n",
       "      <td>2015: Beyond Obama, new Congress, we need a re...</td>\n",
       "      <td>the stock market is at record highs|A Pew Rese...</td>\n",
       "      <td>In the film, \"Girl Interrupted,\" Winona Ryder ...</td>\n",
       "      <td>A Pew Research Center study confirms one trend...</td>\n",
       "      <td>our traditional institutions and self-confiden...</td>\n",
       "      <td>The \"typical\" American family is no longer typ...</td>\n",
       "      <td>In the film, \"Girl Interrupted,\" Winona Ryder ...</td>\n",
       "      <td>In the film, \"Girl Interrupted,\" Winona Ryder ...</td>\n",
       "      <td>...</td>\n",
       "      <td>The \"typical\" American family is no longer typ...</td>\n",
       "      <td>['In the film, \"Girl Interrupted,\" Winona Ryde...</td>\n",
       "      <td>['the stock market is at record highs', 'our t...</td>\n",
       "      <td>['we don\\' t learn from history because\"our st...</td>\n",
       "      <td>{\"paragraphs\":[   [     {\"number\":1, \"text\":\"2...</td>\n",
       "      <td>[{'number': 12, 'text': 'the stock market is a...</td>\n",
       "      <td>[{'number': 2, 'text': 'In the film, \"Girl Int...</td>\n",
       "      <td>[{'number': 16, 'text': 'A Pew Research Center...</td>\n",
       "      <td>[{'number': 14, 'text': 'our traditional insti...</td>\n",
       "      <td>[{'number': 18, 'text': 'The \"typical\" America...</td>\n",
       "    </tr>\n",
       "    <tr>\n",
       "      <td>1</td>\n",
       "      <td>2</td>\n",
       "      <td>2015: Will America continue its slow march tow...</td>\n",
       "      <td>2015: Will America continue its slow march tow...</td>\n",
       "      <td>A British author, residing in the United State...</td>\n",
       "      <td>A British author, residing in the United State...</td>\n",
       "      <td>the federal government cannot interfere with o...</td>\n",
       "      <td>the federal government cannot interfere with o...</td>\n",
       "      <td>which declares that we are free to make person...</td>\n",
       "      <td>A British author, residing in the United State...</td>\n",
       "      <td>A British author, residing in the United State...</td>\n",
       "      <td>...</td>\n",
       "      <td>He went on to opine that the government today ...</td>\n",
       "      <td>['A British author, residing in the United Sta...</td>\n",
       "      <td>['which declares that we are free to make pers...</td>\n",
       "      <td>['Both parties support perpetual war and perpe...</td>\n",
       "      <td>{\"paragraphs\":[   [     {\"number\":1, \"text\":\"2...</td>\n",
       "      <td>[{'number': 2, 'text': 'A British author, resi...</td>\n",
       "      <td>[{'number': 2, 'text': 'A British author, resi...</td>\n",
       "      <td>[{'number': 19, 'text': 'the federal governmen...</td>\n",
       "      <td>[{'number': 19, 'text': 'the federal governmen...</td>\n",
       "      <td>[{'number': 15, 'text': 'which declares that w...</td>\n",
       "    </tr>\n",
       "    <tr>\n",
       "      <td>2</td>\n",
       "      <td>3</td>\n",
       "      <td>2015: Will new Congress get serious about Puti...</td>\n",
       "      <td>2015: Will new Congress get serious about Puti...</td>\n",
       "      <td>Moscow has long opposed U.S  missile defense i...</td>\n",
       "      <td>This adds to the list of over 40 serious incid...</td>\n",
       "      <td>President Obama has so far remained unwilling ...</td>\n",
       "      <td>This adds to the list of over 40 serious incid...</td>\n",
       "      <td>This adds to the list of over 40 serious incid...</td>\n",
       "      <td>If the U.S  does configure systems to protect ...</td>\n",
       "      <td>\"The bear never asks permission,\" remarked Vla...</td>\n",
       "      <td>...</td>\n",
       "      <td>In early December there was another near miss ...</td>\n",
       "      <td>['\"The bear never asks permission,\" remarked V...</td>\n",
       "      <td>['President Obama has so far remained unwillin...</td>\n",
       "      <td>['Between the failure of the infamous \"Iran de...</td>\n",
       "      <td>{\"paragraphs\":[   [     {\"number\":1, \"text\":\"2...</td>\n",
       "      <td>[{'number': 23, 'text': 'Moscow has long oppos...</td>\n",
       "      <td>[{'number': 10, 'text': 'This adds to the list...</td>\n",
       "      <td>[{'number': 12, 'text': 'President Obama has s...</td>\n",
       "      <td>[{'number': 10, 'text': 'This adds to the list...</td>\n",
       "      <td>[{'number': 10, 'text': 'This adds to the list...</td>\n",
       "    </tr>\n",
       "    <tr>\n",
       "      <td>3</td>\n",
       "      <td>4</td>\n",
       "      <td>? 300 for a job reference is the latest outrag...</td>\n",
       "      <td>? 300 for a job reference is the latest outrag...</td>\n",
       "      <td>A reference is immediately invalid once money ...</td>\n",
       "      <td>First, they've been sent the message that they...</td>\n",
       "      <td>His market is ambitious but terrified young pe...</td>\n",
       "      <td>although the \"junior associates\" programme was...</td>\n",
       "      <td>Repeated references to these elusive skills ra...</td>\n",
       "      <td>this idea catches on|references as a measure o...</td>\n",
       "      <td>Getting a job with worthless education and mon...</td>\n",
       "      <td>...</td>\n",
       "      <td>A reference is immediately invalid once money ...</td>\n",
       "      <td>['there were an award for scummiest business p...</td>\n",
       "      <td>['although the \"junior associates\" programme w...</td>\n",
       "      <td>['no one pays? 300 to be damned with faint pra...</td>\n",
       "      <td>{\"paragraphs\":[   [     {\"number\":1, \"text\":\"?...</td>\n",
       "      <td>[{'number': 66, 'text': 'A reference is immedi...</td>\n",
       "      <td>[{'number': 25, 'text': \"First, they've been s...</td>\n",
       "      <td>[{'number': 21, 'text': 'His market is ambitio...</td>\n",
       "      <td>[{'number': 15, 'text': 'although the \"junior ...</td>\n",
       "      <td>[{'number': 29, 'text': 'Repeated references t...</td>\n",
       "    </tr>\n",
       "    <tr>\n",
       "      <td>4</td>\n",
       "      <td>6</td>\n",
       "      <td>Afghanistan at crucial juncture.</td>\n",
       "      <td>Afghanistan at crucial juncture. On Thursday, ...</td>\n",
       "      <td>For one thing, the ANSF are doing much of the ...</td>\n",
       "      <td>how are western governments, with their attent...</td>\n",
       "      <td>International funding commitments for Afghanis...</td>\n",
       "      <td>This week's London Conference is an opportunit...</td>\n",
       "      <td>To the north, in the capital Kabul, insurgents...</td>\n",
       "      <td>Of all the high-profile international conferen...</td>\n",
       "      <td>Of all the high-profile international conferen...</td>\n",
       "      <td>...</td>\n",
       "      <td>Of all the high-profile international conferen...</td>\n",
       "      <td>['On Thursday, the so-called London Conference...</td>\n",
       "      <td>['US President Barack Obama has authorised the...</td>\n",
       "      <td>['but that timeline had assumed the insurgency...</td>\n",
       "      <td>{\"paragraphs\":[   [     {\"number\":1, \"text\":\"A...</td>\n",
       "      <td>[{'number': 26, 'text': 'For one thing, the AN...</td>\n",
       "      <td>[{'number': 121, 'text': 'how are western gove...</td>\n",
       "      <td>[{'number': 102, 'text': 'International fundin...</td>\n",
       "      <td>[{'number': 111, 'text': \"This week's London C...</td>\n",
       "      <td>[{'number': 10, 'text': 'To the north, in the ...</td>\n",
       "    </tr>\n",
       "    <tr>\n",
       "      <td>...</td>\n",
       "      <td>...</td>\n",
       "      <td>...</td>\n",
       "      <td>...</td>\n",
       "      <td>...</td>\n",
       "      <td>...</td>\n",
       "      <td>...</td>\n",
       "      <td>...</td>\n",
       "      <td>...</td>\n",
       "      <td>...</td>\n",
       "      <td>...</td>\n",
       "      <td>...</td>\n",
       "      <td>...</td>\n",
       "      <td>...</td>\n",
       "      <td>...</td>\n",
       "      <td>...</td>\n",
       "      <td>...</td>\n",
       "      <td>...</td>\n",
       "      <td>...</td>\n",
       "      <td>...</td>\n",
       "      <td>...</td>\n",
       "      <td>...</td>\n",
       "    </tr>\n",
       "    <tr>\n",
       "      <td>261</td>\n",
       "      <td>296</td>\n",
       "      <td>Will the awful power of the word 'slut' defeat...</td>\n",
       "      <td>Will the awful power of the word 'slut' defeat...</td>\n",
       "      <td>When she spoke to women who called themselves ...</td>\n",
       "      <td>When she spoke to women who called themselves ...</td>\n",
       "      <td>Take Leora Tanenbaum: in 2000, she wrote Slut!...</td>\n",
       "      <td>She herself was called a \"slut\" as a high scho...</td>\n",
       "      <td>long before the term \"sexual harassment\" was c...</td>\n",
       "      <td>, countless feminist debates over the reclamat...</td>\n",
       "      <td>Bikini Kill frontwoman and Riot Grrrl icon Kat...</td>\n",
       "      <td>...</td>\n",
       "      <td>what inevitably happens, especially in today's...</td>\n",
       "      <td>['Bikini Kill frontwoman and Riot Grrrl icon K...</td>\n",
       "      <td>['She herself was called a \"slut\" as a high sc...</td>\n",
       "      <td>['But in this time of unprecedented feminist p...</td>\n",
       "      <td>{\"paragraphs\":[   [     {\"number\":1, \"text\":\"W...</td>\n",
       "      <td>[{'number': 21, 'text': 'When she spoke to wom...</td>\n",
       "      <td>[{'number': 21, 'text': 'When she spoke to wom...</td>\n",
       "      <td>[{'number': 13, 'text': \"Take Leora Tanenbaum:...</td>\n",
       "      <td>[{'number': 15, 'text': 'She herself was calle...</td>\n",
       "      <td>[{'number': 17, 'text': 'long before the term ...</td>\n",
       "    </tr>\n",
       "    <tr>\n",
       "      <td>262</td>\n",
       "      <td>297</td>\n",
       "      <td>What happens on tour stays on tour': how a wee...</td>\n",
       "      <td>What happens on tour stays on tour': how a wee...</td>\n",
       "      <td>That evening the Chat Coach stops for the fina...</td>\n",
       "      <td>One has taken his\"It's not Adam &amp;amp; Steve\" c...</td>\n",
       "      <td>After a day's leafleting in North Warwickshire...</td>\n",
       "      <td>At the back are the socially conservative gang...</td>\n",
       "      <td>One has taken his\"It's not Adam &amp;amp; Steve\" c...</td>\n",
       "      <td>\"What happens on tour stays on tour,\" says one...</td>\n",
       "      <td>news emerges that the Conservative party chair...</td>\n",
       "      <td>...</td>\n",
       "      <td>news emerges that the Conservative party chair...</td>\n",
       "      <td>['news emerges that the Conservative party cha...</td>\n",
       "      <td>['\"This is bat country,\" one of them mutters',...</td>\n",
       "      <td>['someone lets slip that they know how to buy ...</td>\n",
       "      <td>{\"paragraphs\":[   [     {\"number\":1, \"text\":\"'...</td>\n",
       "      <td>[{'number': 101, 'text': 'That evening the Cha...</td>\n",
       "      <td>[{'number': 12, 'text': 'One has taken his\"It\\...</td>\n",
       "      <td>[{'number': 24, 'text': \"After a day's leaflet...</td>\n",
       "      <td>[{'number': 10, 'text': 'At the back are the s...</td>\n",
       "      <td>[{'number': 12, 'text': 'One has taken his\"It\\...</td>\n",
       "    </tr>\n",
       "    <tr>\n",
       "      <td>263</td>\n",
       "      <td>298</td>\n",
       "      <td>Young v  UPS: Supreme Court should uphold righ...</td>\n",
       "      <td>Young v  UPS: Supreme Court should uphold righ...</td>\n",
       "      <td>we both believe that the Pregnancy Discriminat...</td>\n",
       "      <td>One of us is pro-choice and the other is pro-l...</td>\n",
       "      <td>we both believe that the Pregnancy Discriminat...</td>\n",
       "      <td>we both believe that the Pregnancy Discriminat...</td>\n",
       "      <td>we both believe that the Pregnancy Discriminat...</td>\n",
       "      <td>we both believe that the Pregnancy Discriminat...</td>\n",
       "      <td>Young was pregnant when the company told her s...</td>\n",
       "      <td>...</td>\n",
       "      <td>we both believe that the Pregnancy Discriminat...</td>\n",
       "      <td>['Young was pregnant when the company told her...</td>\n",
       "      <td>['This case has brought together unlikely alli...</td>\n",
       "      <td>['A record 40 percent of all households with c...</td>\n",
       "      <td>{\"paragraphs\":[   [     {\"number\":1, \"text\":\"Y...</td>\n",
       "      <td>[{'number': 14, 'text': 'we both believe that ...</td>\n",
       "      <td>[{'number': 11, 'text': 'One of us is pro-choi...</td>\n",
       "      <td>[{'number': 14, 'text': 'we both believe that ...</td>\n",
       "      <td>[{'number': 14, 'text': 'we both believe that ...</td>\n",
       "      <td>[{'number': 14, 'text': 'we both believe that ...</td>\n",
       "    </tr>\n",
       "    <tr>\n",
       "      <td>264</td>\n",
       "      <td>299</td>\n",
       "      <td>#YouTubeAsksObama: GOP desperately needs a 'Gl...</td>\n",
       "      <td>#YouTubeAsksObama: GOP desperately needs a 'Gl...</td>\n",
       "      <td>Obama told them:\"This is the power of what the...</td>\n",
       "      <td>Obama finished the round of interviews by taki...</td>\n",
       "      <td>Obama finished the round of interviews by taki...</td>\n",
       "      <td>Obama finished the round of interviews by taki...</td>\n",
       "      <td>Obama finished the round of interviews by taki...</td>\n",
       "      <td>Republicans who mock President Obama's intervi...</td>\n",
       "      <td>The Washington media crowd, including conserva...</td>\n",
       "      <td>...</td>\n",
       "      <td>Republicans who mock President Obama's intervi...</td>\n",
       "      <td>[\"Republicans who mock President Obama's inter...</td>\n",
       "      <td>[\"The YouTube interviews inside the White Hous...</td>\n",
       "      <td>['Obama finished the round of interviews by ta...</td>\n",
       "      <td>{\"paragraphs\":[   [     {\"number\":1, \"text\":\"#...</td>\n",
       "      <td>[{'number': 104, 'text': 'Obama told them:\"Thi...</td>\n",
       "      <td>[{'number': 102, 'text': 'Obama finished the r...</td>\n",
       "      <td>[{'number': 102, 'text': 'Obama finished the r...</td>\n",
       "      <td>[{'number': 102, 'text': 'Obama finished the r...</td>\n",
       "      <td>[{'number': 102, 'text': 'Obama finished the r...</td>\n",
       "    </tr>\n",
       "    <tr>\n",
       "      <td>265</td>\n",
       "      <td>300</td>\n",
       "      <td>Zero suicides is an admirable aim but it requi...</td>\n",
       "      <td>Zero suicides is an admirable aim but it requi...</td>\n",
       "      <td>while we live in a society that doesn't know h...</td>\n",
       "      <td>while we live in a society that doesn't know h...</td>\n",
       "      <td>while we live in a society that doesn't know h...</td>\n",
       "      <td>while we live in a society that doesn't know h...</td>\n",
       "      <td>Much focus is placed on those who are sufferin...</td>\n",
       "      <td>On Monday, Nick Clegg pledged to sign up the N...</td>\n",
       "      <td>On Monday, Nick Clegg pledged to sign up the N...</td>\n",
       "      <td>...</td>\n",
       "      <td>On Monday, Nick Clegg pledged to sign up the N...</td>\n",
       "      <td>['On Monday, Nick Clegg pledged to sign up the...</td>\n",
       "      <td>[\"Someone who suffered from an illness that to...</td>\n",
       "      <td>['Much focus is placed on those who are suffer...</td>\n",
       "      <td>{\"paragraphs\":[   [     {\"number\":1, \"text\":\"Z...</td>\n",
       "      <td>[{'number': 106, 'text': \"while we live in a s...</td>\n",
       "      <td>[{'number': 106, 'text': \"while we live in a s...</td>\n",
       "      <td>[{'number': 106, 'text': \"while we live in a s...</td>\n",
       "      <td>[{'number': 106, 'text': \"while we live in a s...</td>\n",
       "      <td>[{'number': 108, 'text': 'Much focus is placed...</td>\n",
       "    </tr>\n",
       "  </tbody>\n",
       "</table>\n",
       "<p>266 rows × 22 columns</p>\n",
       "</div>"
      ],
      "text/plain": [
       "     article_id                                              title  \\\n",
       "0             1  2015: Beyond Obama, new Congress, we need a re...   \n",
       "1             2  2015: Will America continue its slow march tow...   \n",
       "2             3  2015: Will new Congress get serious about Puti...   \n",
       "3             4  ? 300 for a job reference is the latest outrag...   \n",
       "4             6                   Afghanistan at crucial juncture.   \n",
       "..          ...                                                ...   \n",
       "261         296  Will the awful power of the word 'slut' defeat...   \n",
       "262         297  What happens on tour stays on tour': how a wee...   \n",
       "263         298  Young v  UPS: Supreme Court should uphold righ...   \n",
       "264         299  #YouTubeAsksObama: GOP desperately needs a 'Gl...   \n",
       "265         300  Zero suicides is an admirable aim but it requi...   \n",
       "\n",
       "                                          article_text  \\\n",
       "0    2015: Beyond Obama, new Congress, we need a re...   \n",
       "1    2015: Will America continue its slow march tow...   \n",
       "2    2015: Will new Congress get serious about Puti...   \n",
       "3    ? 300 for a job reference is the latest outrag...   \n",
       "4    Afghanistan at crucial juncture. On Thursday, ...   \n",
       "..                                                 ...   \n",
       "261  Will the awful power of the word 'slut' defeat...   \n",
       "262  What happens on tour stays on tour': how a wee...   \n",
       "263  Young v  UPS: Supreme Court should uphold righ...   \n",
       "264  #YouTubeAsksObama: GOP desperately needs a 'Gl...   \n",
       "265  Zero suicides is an admirable aim but it requi...   \n",
       "\n",
       "                                        summary_1_text  \\\n",
       "0    the stock market is at record highs|A Pew Rese...   \n",
       "1    A British author, residing in the United State...   \n",
       "2    Moscow has long opposed U.S  missile defense i...   \n",
       "3    A reference is immediately invalid once money ...   \n",
       "4    For one thing, the ANSF are doing much of the ...   \n",
       "..                                                 ...   \n",
       "261  When she spoke to women who called themselves ...   \n",
       "262  That evening the Chat Coach stops for the fina...   \n",
       "263  we both believe that the Pregnancy Discriminat...   \n",
       "264  Obama told them:\"This is the power of what the...   \n",
       "265  while we live in a society that doesn't know h...   \n",
       "\n",
       "                                        summary_2_text  \\\n",
       "0    In the film, \"Girl Interrupted,\" Winona Ryder ...   \n",
       "1    A British author, residing in the United State...   \n",
       "2    This adds to the list of over 40 serious incid...   \n",
       "3    First, they've been sent the message that they...   \n",
       "4    how are western governments, with their attent...   \n",
       "..                                                 ...   \n",
       "261  When she spoke to women who called themselves ...   \n",
       "262  One has taken his\"It's not Adam &amp; Steve\" c...   \n",
       "263  One of us is pro-choice and the other is pro-l...   \n",
       "264  Obama finished the round of interviews by taki...   \n",
       "265  while we live in a society that doesn't know h...   \n",
       "\n",
       "                                        summary_3_text  \\\n",
       "0    A Pew Research Center study confirms one trend...   \n",
       "1    the federal government cannot interfere with o...   \n",
       "2    President Obama has so far remained unwilling ...   \n",
       "3    His market is ambitious but terrified young pe...   \n",
       "4    International funding commitments for Afghanis...   \n",
       "..                                                 ...   \n",
       "261  Take Leora Tanenbaum: in 2000, she wrote Slut!...   \n",
       "262  After a day's leafleting in North Warwickshire...   \n",
       "263  we both believe that the Pregnancy Discriminat...   \n",
       "264  Obama finished the round of interviews by taki...   \n",
       "265  while we live in a society that doesn't know h...   \n",
       "\n",
       "                                        summary_4_text  \\\n",
       "0    our traditional institutions and self-confiden...   \n",
       "1    the federal government cannot interfere with o...   \n",
       "2    This adds to the list of over 40 serious incid...   \n",
       "3    although the \"junior associates\" programme was...   \n",
       "4    This week's London Conference is an opportunit...   \n",
       "..                                                 ...   \n",
       "261  She herself was called a \"slut\" as a high scho...   \n",
       "262  At the back are the socially conservative gang...   \n",
       "263  we both believe that the Pregnancy Discriminat...   \n",
       "264  Obama finished the round of interviews by taki...   \n",
       "265  while we live in a society that doesn't know h...   \n",
       "\n",
       "                                        summary_5_text  \\\n",
       "0    The \"typical\" American family is no longer typ...   \n",
       "1    which declares that we are free to make person...   \n",
       "2    This adds to the list of over 40 serious incid...   \n",
       "3    Repeated references to these elusive skills ra...   \n",
       "4    To the north, in the capital Kabul, insurgents...   \n",
       "..                                                 ...   \n",
       "261  long before the term \"sexual harassment\" was c...   \n",
       "262  One has taken his\"It's not Adam &amp; Steve\" c...   \n",
       "263  we both believe that the Pregnancy Discriminat...   \n",
       "264  Obama finished the round of interviews by taki...   \n",
       "265  Much focus is placed on those who are sufferin...   \n",
       "\n",
       "                                         thesis_1_text  \\\n",
       "0    In the film, \"Girl Interrupted,\" Winona Ryder ...   \n",
       "1    A British author, residing in the United State...   \n",
       "2    If the U.S  does configure systems to protect ...   \n",
       "3    this idea catches on|references as a measure o...   \n",
       "4    Of all the high-profile international conferen...   \n",
       "..                                                 ...   \n",
       "261  , countless feminist debates over the reclamat...   \n",
       "262  \"What happens on tour stays on tour,\" says one...   \n",
       "263  we both believe that the Pregnancy Discriminat...   \n",
       "264  Republicans who mock President Obama's intervi...   \n",
       "265  On Monday, Nick Clegg pledged to sign up the N...   \n",
       "\n",
       "                                         thesis_2_text  ...  \\\n",
       "0    In the film, \"Girl Interrupted,\" Winona Ryder ...  ...   \n",
       "1    A British author, residing in the United State...  ...   \n",
       "2    \"The bear never asks permission,\" remarked Vla...  ...   \n",
       "3    Getting a job with worthless education and mon...  ...   \n",
       "4    Of all the high-profile international conferen...  ...   \n",
       "..                                                 ...  ...   \n",
       "261  Bikini Kill frontwoman and Riot Grrrl icon Kat...  ...   \n",
       "262  news emerges that the Conservative party chair...  ...   \n",
       "263  Young was pregnant when the company told her s...  ...   \n",
       "264  The Washington media crowd, including conserva...  ...   \n",
       "265  On Monday, Nick Clegg pledged to sign up the N...  ...   \n",
       "\n",
       "                                         thesis_5_text  \\\n",
       "0    The \"typical\" American family is no longer typ...   \n",
       "1    He went on to opine that the government today ...   \n",
       "2    In early December there was another near miss ...   \n",
       "3    A reference is immediately invalid once money ...   \n",
       "4    Of all the high-profile international conferen...   \n",
       "..                                                 ...   \n",
       "261  what inevitably happens, especially in today's...   \n",
       "262  news emerges that the Conservative party chair...   \n",
       "263  we both believe that the Pregnancy Discriminat...   \n",
       "264  Republicans who mock President Obama's intervi...   \n",
       "265  On Monday, Nick Clegg pledged to sign up the N...   \n",
       "\n",
       "                                                  lead  \\\n",
       "0    ['In the film, \"Girl Interrupted,\" Winona Ryde...   \n",
       "1    ['A British author, residing in the United Sta...   \n",
       "2    ['\"The bear never asks permission,\" remarked V...   \n",
       "3    ['there were an award for scummiest business p...   \n",
       "4    ['On Thursday, the so-called London Conference...   \n",
       "..                                                 ...   \n",
       "261  ['Bikini Kill frontwoman and Riot Grrrl icon K...   \n",
       "262  ['news emerges that the Conservative party cha...   \n",
       "263  ['Young was pregnant when the company told her...   \n",
       "264  [\"Republicans who mock President Obama's inter...   \n",
       "265  ['On Monday, Nick Clegg pledged to sign up the...   \n",
       "\n",
       "                                                  body  \\\n",
       "0    ['the stock market is at record highs', 'our t...   \n",
       "1    ['which declares that we are free to make pers...   \n",
       "2    ['President Obama has so far remained unwillin...   \n",
       "3    ['although the \"junior associates\" programme w...   \n",
       "4    ['US President Barack Obama has authorised the...   \n",
       "..                                                 ...   \n",
       "261  ['She herself was called a \"slut\" as a high sc...   \n",
       "262  ['\"This is bat country,\" one of them mutters',...   \n",
       "263  ['This case has brought together unlikely alli...   \n",
       "264  [\"The YouTube interviews inside the White Hous...   \n",
       "265  [\"Someone who suffered from an illness that to...   \n",
       "\n",
       "                                            conclusion  \\\n",
       "0    ['we don\\' t learn from history because\"our st...   \n",
       "1    ['Both parties support perpetual war and perpe...   \n",
       "2    ['Between the failure of the infamous \"Iran de...   \n",
       "3    ['no one pays? 300 to be damned with faint pra...   \n",
       "4    ['but that timeline had assumed the insurgency...   \n",
       "..                                                 ...   \n",
       "261  ['But in this time of unprecedented feminist p...   \n",
       "262  ['someone lets slip that they know how to buy ...   \n",
       "263  ['A record 40 percent of all households with c...   \n",
       "264  ['Obama finished the round of interviews by ta...   \n",
       "265  ['Much focus is placed on those who are suffer...   \n",
       "\n",
       "                                      article_segments  \\\n",
       "0    {\"paragraphs\":[   [     {\"number\":1, \"text\":\"2...   \n",
       "1    {\"paragraphs\":[   [     {\"number\":1, \"text\":\"2...   \n",
       "2    {\"paragraphs\":[   [     {\"number\":1, \"text\":\"2...   \n",
       "3    {\"paragraphs\":[   [     {\"number\":1, \"text\":\"?...   \n",
       "4    {\"paragraphs\":[   [     {\"number\":1, \"text\":\"A...   \n",
       "..                                                 ...   \n",
       "261  {\"paragraphs\":[   [     {\"number\":1, \"text\":\"W...   \n",
       "262  {\"paragraphs\":[   [     {\"number\":1, \"text\":\"'...   \n",
       "263  {\"paragraphs\":[   [     {\"number\":1, \"text\":\"Y...   \n",
       "264  {\"paragraphs\":[   [     {\"number\":1, \"text\":\"#...   \n",
       "265  {\"paragraphs\":[   [     {\"number\":1, \"text\":\"Z...   \n",
       "\n",
       "                                    summary_1_segments  \\\n",
       "0    [{'number': 12, 'text': 'the stock market is a...   \n",
       "1    [{'number': 2, 'text': 'A British author, resi...   \n",
       "2    [{'number': 23, 'text': 'Moscow has long oppos...   \n",
       "3    [{'number': 66, 'text': 'A reference is immedi...   \n",
       "4    [{'number': 26, 'text': 'For one thing, the AN...   \n",
       "..                                                 ...   \n",
       "261  [{'number': 21, 'text': 'When she spoke to wom...   \n",
       "262  [{'number': 101, 'text': 'That evening the Cha...   \n",
       "263  [{'number': 14, 'text': 'we both believe that ...   \n",
       "264  [{'number': 104, 'text': 'Obama told them:\"Thi...   \n",
       "265  [{'number': 106, 'text': \"while we live in a s...   \n",
       "\n",
       "                                    summary_2_segments  \\\n",
       "0    [{'number': 2, 'text': 'In the film, \"Girl Int...   \n",
       "1    [{'number': 2, 'text': 'A British author, resi...   \n",
       "2    [{'number': 10, 'text': 'This adds to the list...   \n",
       "3    [{'number': 25, 'text': \"First, they've been s...   \n",
       "4    [{'number': 121, 'text': 'how are western gove...   \n",
       "..                                                 ...   \n",
       "261  [{'number': 21, 'text': 'When she spoke to wom...   \n",
       "262  [{'number': 12, 'text': 'One has taken his\"It\\...   \n",
       "263  [{'number': 11, 'text': 'One of us is pro-choi...   \n",
       "264  [{'number': 102, 'text': 'Obama finished the r...   \n",
       "265  [{'number': 106, 'text': \"while we live in a s...   \n",
       "\n",
       "                                    summary_3_segments  \\\n",
       "0    [{'number': 16, 'text': 'A Pew Research Center...   \n",
       "1    [{'number': 19, 'text': 'the federal governmen...   \n",
       "2    [{'number': 12, 'text': 'President Obama has s...   \n",
       "3    [{'number': 21, 'text': 'His market is ambitio...   \n",
       "4    [{'number': 102, 'text': 'International fundin...   \n",
       "..                                                 ...   \n",
       "261  [{'number': 13, 'text': \"Take Leora Tanenbaum:...   \n",
       "262  [{'number': 24, 'text': \"After a day's leaflet...   \n",
       "263  [{'number': 14, 'text': 'we both believe that ...   \n",
       "264  [{'number': 102, 'text': 'Obama finished the r...   \n",
       "265  [{'number': 106, 'text': \"while we live in a s...   \n",
       "\n",
       "                                    summary_4_segments  \\\n",
       "0    [{'number': 14, 'text': 'our traditional insti...   \n",
       "1    [{'number': 19, 'text': 'the federal governmen...   \n",
       "2    [{'number': 10, 'text': 'This adds to the list...   \n",
       "3    [{'number': 15, 'text': 'although the \"junior ...   \n",
       "4    [{'number': 111, 'text': \"This week's London C...   \n",
       "..                                                 ...   \n",
       "261  [{'number': 15, 'text': 'She herself was calle...   \n",
       "262  [{'number': 10, 'text': 'At the back are the s...   \n",
       "263  [{'number': 14, 'text': 'we both believe that ...   \n",
       "264  [{'number': 102, 'text': 'Obama finished the r...   \n",
       "265  [{'number': 106, 'text': \"while we live in a s...   \n",
       "\n",
       "                                    summary_5_segments  \n",
       "0    [{'number': 18, 'text': 'The \"typical\" America...  \n",
       "1    [{'number': 15, 'text': 'which declares that w...  \n",
       "2    [{'number': 10, 'text': 'This adds to the list...  \n",
       "3    [{'number': 29, 'text': 'Repeated references t...  \n",
       "4    [{'number': 10, 'text': 'To the north, in the ...  \n",
       "..                                                 ...  \n",
       "261  [{'number': 17, 'text': 'long before the term ...  \n",
       "262  [{'number': 12, 'text': 'One has taken his\"It\\...  \n",
       "263  [{'number': 14, 'text': 'we both believe that ...  \n",
       "264  [{'number': 102, 'text': 'Obama finished the r...  \n",
       "265  [{'number': 108, 'text': 'Much focus is placed...  \n",
       "\n",
       "[266 rows x 22 columns]"
      ]
     },
     "execution_count": 7,
     "metadata": {},
     "output_type": "execute_result"
    }
   ],
   "source": [
    "df"
   ]
  },
  {
   "cell_type": "code",
   "execution_count": 8,
   "id": "b4c72e83",
   "metadata": {},
   "outputs": [],
   "source": [
    "text_list=[]\n",
    "label_list=[]"
   ]
  },
  {
   "cell_type": "code",
   "execution_count": 9,
   "id": "071a6bd3",
   "metadata": {},
   "outputs": [],
   "source": [
    "def datasetmaker(x):\n",
    "    x=json.loads(x)\n",
    "    for i in range(0,len(x[\"paragraphs\"])):\n",
    "        for j in range(0,len(x[\"paragraphs\"][i])):\n",
    "            text_list.append(x[\"paragraphs\"][i][j][\"text\"])\n",
    "            label_list.append(x[\"paragraphs\"][i][j][\"label\"])"
   ]
  },
  {
   "cell_type": "code",
   "execution_count": 10,
   "id": "f06b936c",
   "metadata": {},
   "outputs": [
    {
     "data": {
      "text/plain": [
       "0      None\n",
       "1      None\n",
       "2      None\n",
       "3      None\n",
       "4      None\n",
       "       ... \n",
       "261    None\n",
       "262    None\n",
       "263    None\n",
       "264    None\n",
       "265    None\n",
       "Name: article_segments, Length: 266, dtype: object"
      ]
     },
     "execution_count": 10,
     "metadata": {},
     "output_type": "execute_result"
    }
   ],
   "source": [
    "df[\"article_segments\"].apply(lambda x:datasetmaker(x))"
   ]
  },
  {
   "cell_type": "code",
   "execution_count": 11,
   "id": "be74a90d",
   "metadata": {},
   "outputs": [
    {
     "data": {
      "text/plain": [
       "28772"
      ]
     },
     "execution_count": 11,
     "metadata": {},
     "output_type": "execute_result"
    }
   ],
   "source": [
    "len(text_list)"
   ]
  },
  {
   "cell_type": "code",
   "execution_count": 12,
   "id": "f2ff0695",
   "metadata": {},
   "outputs": [
    {
     "data": {
      "text/plain": [
       "28772"
      ]
     },
     "execution_count": 12,
     "metadata": {},
     "output_type": "execute_result"
    }
   ],
   "source": [
    "len(label_list)"
   ]
  },
  {
   "cell_type": "code",
   "execution_count": 13,
   "id": "158a4663",
   "metadata": {},
   "outputs": [],
   "source": [
    "df_main={\"text\":text_list,\"label\":label_list}"
   ]
  },
  {
   "cell_type": "code",
   "execution_count": 14,
   "id": "1bc50e98",
   "metadata": {},
   "outputs": [],
   "source": [
    "df_main=pd.DataFrame(df_main)"
   ]
  },
  {
   "cell_type": "code",
   "execution_count": 15,
   "id": "5ccb2423",
   "metadata": {},
   "outputs": [
    {
     "data": {
      "text/html": [
       "<div>\n",
       "<style scoped>\n",
       "    .dataframe tbody tr th:only-of-type {\n",
       "        vertical-align: middle;\n",
       "    }\n",
       "\n",
       "    .dataframe tbody tr th {\n",
       "        vertical-align: top;\n",
       "    }\n",
       "\n",
       "    .dataframe thead th {\n",
       "        text-align: right;\n",
       "    }\n",
       "</style>\n",
       "<table border=\"1\" class=\"dataframe\">\n",
       "  <thead>\n",
       "    <tr style=\"text-align: right;\">\n",
       "      <th></th>\n",
       "      <th>text</th>\n",
       "      <th>label</th>\n",
       "    </tr>\n",
       "  </thead>\n",
       "  <tbody>\n",
       "    <tr>\n",
       "      <td>0</td>\n",
       "      <td>2015: Beyond Obama, new Congress, we need a re...</td>\n",
       "      <td>title</td>\n",
       "    </tr>\n",
       "    <tr>\n",
       "      <td>1</td>\n",
       "      <td>In the film, \"Girl Interrupted,\" Winona Ryder ...</td>\n",
       "      <td>anecdote</td>\n",
       "    </tr>\n",
       "    <tr>\n",
       "      <td>2</td>\n",
       "      <td>.</td>\n",
       "      <td>no-unit</td>\n",
       "    </tr>\n",
       "    <tr>\n",
       "      <td>3</td>\n",
       "      <td>The year is 1967</td>\n",
       "      <td>anecdote</td>\n",
       "    </tr>\n",
       "    <tr>\n",
       "      <td>4</td>\n",
       "      <td>and</td>\n",
       "      <td>no-unit</td>\n",
       "    </tr>\n",
       "  </tbody>\n",
       "</table>\n",
       "</div>"
      ],
      "text/plain": [
       "                                                text     label\n",
       "0  2015: Beyond Obama, new Congress, we need a re...     title\n",
       "1  In the film, \"Girl Interrupted,\" Winona Ryder ...  anecdote\n",
       "2                                                  .   no-unit\n",
       "3                                   The year is 1967  anecdote\n",
       "4                                                and   no-unit"
      ]
     },
     "execution_count": 15,
     "metadata": {},
     "output_type": "execute_result"
    }
   ],
   "source": [
    "df_main.head()"
   ]
  },
  {
   "cell_type": "code",
   "execution_count": 16,
   "id": "9f38a554",
   "metadata": {},
   "outputs": [
    {
     "data": {
      "text/plain": [
       "28772"
      ]
     },
     "execution_count": 16,
     "metadata": {},
     "output_type": "execute_result"
    }
   ],
   "source": [
    "len(text_list)"
   ]
  },
  {
   "cell_type": "code",
   "execution_count": 17,
   "id": "085a97a3",
   "metadata": {},
   "outputs": [
    {
     "data": {
      "text/plain": [
       "no-unit          15193\n",
       "assumption        9049\n",
       "anecdote          2430\n",
       "testimony         1064\n",
       "statistics         381\n",
       "title              266\n",
       "common-ground      232\n",
       "other              157\n",
       "Name: label, dtype: int64"
      ]
     },
     "execution_count": 17,
     "metadata": {},
     "output_type": "execute_result"
    }
   ],
   "source": [
    "df_main[\"label\"].value_counts()"
   ]
  },
  {
   "cell_type": "code",
   "execution_count": 18,
   "id": "40c27491",
   "metadata": {},
   "outputs": [
    {
     "data": {
      "text/plain": [
       "(array([0, 1, 2, 3, 4, 5, 6, 7]), <a list of 8 Text xticklabel objects>)"
      ]
     },
     "execution_count": 18,
     "metadata": {},
     "output_type": "execute_result"
    },
    {
     "data": {
      "image/png": "[encoded data removed]",
      "text/plain": [
       "<Figure size 432x288 with 1 Axes>"
      ]
     },
     "metadata": {
      "needs_background": "light"
     },
     "output_type": "display_data"
    }
   ],
   "source": [
    "sns.countplot(data=df_main,x=\"label\")\n",
    "plt.xticks(rotation=45, ha='right')"
   ]
  },
  {
   "cell_type": "code",
   "execution_count": 19,
   "id": "179cd627",
   "metadata": {},
   "outputs": [
    {
     "data": {
      "text/plain": [
       "2                    .\n",
       "4                  and\n",
       "6                    .\n",
       "8                    .\n",
       "10       As 2014 ends,\n",
       "             ...      \n",
       "28763                -\n",
       "28765                .\n",
       "28767                .\n",
       "28769                .\n",
       "28771                .\n",
       "Name: text, Length: 15193, dtype: object"
      ]
     },
     "execution_count": 19,
     "metadata": {},
     "output_type": "execute_result"
    }
   ],
   "source": [
    "df_main[df_main[\"label\"]==\"no-unit\"][\"text\"]"
   ]
  },
  {
   "cell_type": "code",
   "execution_count": 20,
   "id": "7e92a742",
   "metadata": {},
   "outputs": [],
   "source": [
    "len_no_unit=df_main[df_main[\"label\"]==\"no-unit\"][\"text\"].apply(lambda x:len(x.split(\" \")))"
   ]
  },
  {
   "cell_type": "code",
   "execution_count": 21,
   "id": "d11c2e25",
   "metadata": {},
   "outputs": [
    {
     "data": {
      "text/plain": [
       "1    14530\n",
       "2      327\n",
       "3       94\n",
       "4       63\n",
       "6       28\n",
       "Name: text, dtype: int64"
      ]
     },
     "execution_count": 21,
     "metadata": {},
     "output_type": "execute_result"
    }
   ],
   "source": [
    "len_no_unit.value_counts().head()"
   ]
  },
  {
   "cell_type": "code",
   "execution_count": 29,
   "id": "90e78d6d",
   "metadata": {},
   "outputs": [
    {
     "data": {
      "text/html": [
       "<div>\n",
       "<style scoped>\n",
       "    .dataframe tbody tr th:only-of-type {\n",
       "        vertical-align: middle;\n",
       "    }\n",
       "\n",
       "    .dataframe tbody tr th {\n",
       "        vertical-align: top;\n",
       "    }\n",
       "\n",
       "    .dataframe thead th {\n",
       "        text-align: right;\n",
       "    }\n",
       "</style>\n",
       "<table border=\"1\" class=\"dataframe\">\n",
       "  <thead>\n",
       "    <tr style=\"text-align: right;\">\n",
       "      <th></th>\n",
       "      <th>text</th>\n",
       "      <th>label</th>\n",
       "    </tr>\n",
       "  </thead>\n",
       "  <tbody>\n",
       "    <tr>\n",
       "      <td>0</td>\n",
       "      <td>2015: Beyond Obama, new Congress, we need a re...</td>\n",
       "      <td>title</td>\n",
       "    </tr>\n",
       "    <tr>\n",
       "      <td>1</td>\n",
       "      <td>In the film, \"Girl Interrupted,\" Winona Ryder ...</td>\n",
       "      <td>anecdote</td>\n",
       "    </tr>\n",
       "    <tr>\n",
       "      <td>3</td>\n",
       "      <td>The year is 1967</td>\n",
       "      <td>anecdote</td>\n",
       "    </tr>\n",
       "    <tr>\n",
       "      <td>4</td>\n",
       "      <td>and</td>\n",
       "      <td>no-unit</td>\n",
       "    </tr>\n",
       "    <tr>\n",
       "      <td>5</td>\n",
       "      <td>the country is in turmoil over Vietnam and civ...</td>\n",
       "      <td>anecdote</td>\n",
       "    </tr>\n",
       "    <tr>\n",
       "      <td>...</td>\n",
       "      <td>...</td>\n",
       "      <td>...</td>\n",
       "    </tr>\n",
       "    <tr>\n",
       "      <td>28762</td>\n",
       "      <td>We need to normalise talking about the realiti...</td>\n",
       "      <td>assumption</td>\n",
       "    </tr>\n",
       "    <tr>\n",
       "      <td>28764</td>\n",
       "      <td>it is the only way we can move forward together</td>\n",
       "      <td>assumption</td>\n",
       "    </tr>\n",
       "    <tr>\n",
       "      <td>28766</td>\n",
       "      <td>We need a radical change from top to bottom</td>\n",
       "      <td>assumption</td>\n",
       "    </tr>\n",
       "    <tr>\n",
       "      <td>28768</td>\n",
       "      <td>Therapy isn't just about lying on a couch whil...</td>\n",
       "      <td>assumption</td>\n",
       "    </tr>\n",
       "    <tr>\n",
       "      <td>28770</td>\n",
       "      <td>It's about feeling comfortable enough to say y...</td>\n",
       "      <td>assumption</td>\n",
       "    </tr>\n",
       "  </tbody>\n",
       "</table>\n",
       "<p>16291 rows × 2 columns</p>\n",
       "</div>"
      ],
      "text/plain": [
       "                                                    text       label\n",
       "0      2015: Beyond Obama, new Congress, we need a re...       title\n",
       "1      In the film, \"Girl Interrupted,\" Winona Ryder ...    anecdote\n",
       "3                                       The year is 1967    anecdote\n",
       "4                                                    and     no-unit\n",
       "5      the country is in turmoil over Vietnam and civ...    anecdote\n",
       "...                                                  ...         ...\n",
       "28762  We need to normalise talking about the realiti...  assumption\n",
       "28764    it is the only way we can move forward together  assumption\n",
       "28766        We need a radical change from top to bottom  assumption\n",
       "28768  Therapy isn't just about lying on a couch whil...  assumption\n",
       "28770  It's about feeling comfortable enough to say y...  assumption\n",
       "\n",
       "[16291 rows x 2 columns]"
      ]
     },
     "execution_count": 29,
     "metadata": {},
     "output_type": "execute_result"
    }
   ],
   "source": [
    "df_main=df_main.loc[(df_main[\"label\"]!=\"no-unit\") | ((df_main[\"label\"]==\"no-unit\") & (df_main[\"text\"].map(len) > 1)) ]\n",
    "df_main"
   ]
  },
  {
   "cell_type": "code",
   "execution_count": 30,
   "id": "dafc763f",
   "metadata": {},
   "outputs": [
    {
     "data": {
      "text/plain": [
       "(array([0, 1, 2, 3, 4, 5, 6, 7]), <a list of 8 Text xticklabel objects>)"
      ]
     },
     "execution_count": 30,
     "metadata": {},
     "output_type": "execute_result"
    },
    {
     "data": {
      "image/png": "[encoded data removed]",
      "text/plain": [
       "<Figure size 432x288 with 1 Axes>"
      ]
     },
     "metadata": {
      "needs_background": "light"
     },
     "output_type": "display_data"
    }
   ],
   "source": [
    "sns.countplot(data=df_main,x=\"label\")\n",
    "plt.xticks(rotation=45, ha='right')"
   ]
  },
  {
   "cell_type": "markdown",
   "id": "b69265c5",
   "metadata": {},
   "source": [
    "#### Feel that a lot of no unit labels consist of just a single punctuation\n",
    "#### Discarding these should be considered \n",
    "#### Makes the dataset very imbalanced "
   ]
  },
  {
   "cell_type": "code",
   "execution_count": null,
   "id": "e1c3f0c2",
   "metadata": {},
   "outputs": [],
   "source": []
  },
  {
   "cell_type": "code",
   "execution_count": 31,
   "id": "4a116f57",
   "metadata": {},
   "outputs": [],
   "source": [
    "from sklearn import preprocessing\n",
    "le = preprocessing.LabelEncoder()\n",
    "df_main[\"label\"]=le.fit_transform(df_main[\"label\"])"
   ]
  },
  {
   "cell_type": "code",
   "execution_count": 32,
   "id": "5fd5c95d",
   "metadata": {},
   "outputs": [],
   "source": [
    "X=df_main[\"text\"]\n",
    "y=df_main[\"label\"]"
   ]
  },
  {
   "cell_type": "code",
   "execution_count": 33,
   "id": "94cf26bb",
   "metadata": {},
   "outputs": [
    {
     "data": {
      "text/plain": [
       "0    7\n",
       "1    0\n",
       "3    0\n",
       "4    3\n",
       "5    0\n",
       "Name: label, dtype: int32"
      ]
     },
     "execution_count": 33,
     "metadata": {},
     "output_type": "execute_result"
    }
   ],
   "source": [
    "y.head()"
   ]
  },
  {
   "cell_type": "code",
   "execution_count": 34,
   "id": "d8ab1580",
   "metadata": {},
   "outputs": [
    {
     "name": "stderr",
     "output_type": "stream",
     "text": [
      "c:\\ProgramData\\Anaconda3\\lib\\site-packages\\sklearn\\utils\\__init__.py:806: DeprecationWarning: `np.int` is a deprecated alias for the builtin `int`. To silence this warning, use `int` by itself. Doing this will not modify any behavior and is safe. When replacing `np.int`, you may wish to use e.g. `np.int64` or `np.int32` to specify the precision. If you wish to review your current use, check the release note link for additional information.\n",
      "Deprecated in NumPy 1.20; for more details and guidance: https://numpy.org/devdocs/release/1.20.0-notes.html#deprecations\n",
      "  return floored.astype(np.int)\n",
      "c:\\ProgramData\\Anaconda3\\lib\\site-packages\\sklearn\\utils\\__init__.py:806: DeprecationWarning: `np.int` is a deprecated alias for the builtin `int`. To silence this warning, use `int` by itself. Doing this will not modify any behavior and is safe. When replacing `np.int`, you may wish to use e.g. `np.int64` or `np.int32` to specify the precision. If you wish to review your current use, check the release note link for additional information.\n",
      "Deprecated in NumPy 1.20; for more details and guidance: https://numpy.org/devdocs/release/1.20.0-notes.html#deprecations\n",
      "  return floored.astype(np.int)\n"
     ]
    }
   ],
   "source": [
    "X_train, X_test, y_train, y_test = train_test_split( X, y, test_size=0.20, random_state=42,stratify=y)"
   ]
  },
  {
   "cell_type": "code",
   "execution_count": 35,
   "id": "cdb29409",
   "metadata": {},
   "outputs": [],
   "source": [
    "Train=pd.concat([X_train,y_train],axis=1)"
   ]
  },
  {
   "cell_type": "code",
   "execution_count": 36,
   "id": "8a344182",
   "metadata": {},
   "outputs": [],
   "source": [
    "Test=pd.concat([X_test,y_test],axis=1)"
   ]
  },
  {
   "cell_type": "code",
   "execution_count": 37,
   "id": "f0f1b125",
   "metadata": {},
   "outputs": [],
   "source": [
    "Train.to_csv(\"train.csv\",index=False)\n",
    "Test.to_csv(\"test.csv\",index=False)"
   ]
  },
  {
   "cell_type": "code",
   "execution_count": null,
   "id": "4d2238f6",
   "metadata": {},
   "outputs": [],
   "source": []
  },
  {
   "cell_type": "code",
   "execution_count": null,
   "id": "91006931",
   "metadata": {},
   "outputs": [],
   "source": []
  },
  {
   "cell_type": "code",
   "execution_count": null,
   "id": "7547b63f",
   "metadata": {},
   "outputs": [],
   "source": []
  },
  {
   "cell_type": "code",
   "execution_count": 38,
   "id": "44084e53",
   "metadata": {},
   "outputs": [],
   "source": [
    "from datasets import load_dataset"
   ]
  },
  {
   "cell_type": "code",
   "execution_count": 39,
   "id": "2cef21d8",
   "metadata": {},
   "outputs": [
    {
     "name": "stderr",
     "output_type": "stream",
     "text": [
      "Using custom data configuration default-51dff07da0b928cd\n"
     ]
    },
    {
     "name": "stdout",
     "output_type": "stream",
     "text": [
      "Downloading and preparing dataset csv/default to C:\\Users\\DearUser\\.cache\\huggingface\\datasets\\csv\\default-51dff07da0b928cd\\0.0.0\\6b9057d9e23d9d8a2f05b985917a0da84d70c5dae3d22ddd8a3f22fb01c69d9e...\n"
     ]
    },
    {
     "name": "stderr",
     "output_type": "stream",
     "text": [
      "100%|██████████| 2/2 [00:00<00:00, 666.66it/s]\n",
      "100%|██████████| 2/2 [00:00<00:00, 105.26it/s]\n"
     ]
    },
    {
     "name": "stdout",
     "output_type": "stream",
     "text": [
      "Dataset csv downloaded and prepared to C:\\Users\\DearUser\\.cache\\huggingface\\datasets\\csv\\default-51dff07da0b928cd\\0.0.0\\6b9057d9e23d9d8a2f05b985917a0da84d70c5dae3d22ddd8a3f22fb01c69d9e. Subsequent calls will reuse this data.\n"
     ]
    },
    {
     "name": "stderr",
     "output_type": "stream",
     "text": [
      "100%|██████████| 2/2 [00:00<00:00, 142.89it/s]\n"
     ]
    }
   ],
   "source": [
    "dataset = load_dataset('csv', data_files={'train': ['train.csv'],'test': 'test.csv'})"
   ]
  },
  {
   "cell_type": "code",
   "execution_count": null,
   "id": "4c1c47a8",
   "metadata": {},
   "outputs": [],
   "source": []
  },
  {
   "cell_type": "code",
   "execution_count": 40,
   "id": "03570a40",
   "metadata": {},
   "outputs": [],
   "source": [
    "from transformers import AutoTokenizer\n",
    "tokenizer = AutoTokenizer.from_pretrained('distilbert-base-uncased')"
   ]
  },
  {
   "cell_type": "code",
   "execution_count": 41,
   "id": "9958b7b5",
   "metadata": {},
   "outputs": [
    {
     "data": {
      "text/plain": [
       "DatasetDict({\n",
       "    train: Dataset({\n",
       "        features: ['text', 'label'],\n",
       "        num_rows: 13032\n",
       "    })\n",
       "    test: Dataset({\n",
       "        features: ['text', 'label'],\n",
       "        num_rows: 3259\n",
       "    })\n",
       "})"
      ]
     },
     "execution_count": 41,
     "metadata": {},
     "output_type": "execute_result"
    }
   ],
   "source": [
    "dataset"
   ]
  },
  {
   "cell_type": "code",
   "execution_count": 42,
   "id": "bf64da16",
   "metadata": {},
   "outputs": [],
   "source": [
    "def tokenize_data(example):\n",
    "    return tokenizer(example['text'], padding='max_length',truncation=True)"
   ]
  },
  {
   "cell_type": "code",
   "execution_count": 43,
   "id": "04e88ef7",
   "metadata": {},
   "outputs": [
    {
     "name": "stderr",
     "output_type": "stream",
     "text": [
      "100%|██████████| 14/14 [00:17<00:00,  1.23s/ba]\n",
      "100%|██████████| 4/4 [00:02<00:00,  1.89ba/s]\n"
     ]
    }
   ],
   "source": [
    "tokenized_datasets = dataset.map(tokenize_data, batched=True)"
   ]
  },
  {
   "cell_type": "code",
   "execution_count": 44,
   "id": "bb6dd57d",
   "metadata": {},
   "outputs": [],
   "source": [
    "small_train_dataset = tokenized_datasets[\"train\"].shuffle(seed=42).select(range(5000))\n",
    "small_eval_dataset = tokenized_datasets[\"test\"].shuffle(seed=42).select(range(1000))"
   ]
  },
  {
   "cell_type": "code",
   "execution_count": 52,
   "id": "04fed7cc",
   "metadata": {},
   "outputs": [
    {
     "data": {
      "text/plain": [
       "DatasetDict({\n",
       "    train: Dataset({\n",
       "        features: ['text', 'label', 'input_ids', 'attention_mask'],\n",
       "        num_rows: 13032\n",
       "    })\n",
       "    test: Dataset({\n",
       "        features: ['text', 'label', 'input_ids', 'attention_mask'],\n",
       "        num_rows: 3259\n",
       "    })\n",
       "})"
      ]
     },
     "execution_count": 52,
     "metadata": {},
     "output_type": "execute_result"
    }
   ],
   "source": [
    "tokenized_datasets"
   ]
  },
  {
   "cell_type": "code",
   "execution_count": 53,
   "id": "ff81cf1f",
   "metadata": {},
   "outputs": [],
   "source": [
    "tokenized_datasets.set_format(\"torch\")"
   ]
  },
  {
   "cell_type": "code",
   "execution_count": 54,
   "id": "7fda3b27",
   "metadata": {},
   "outputs": [],
   "source": [
    "small_train_dataset = tokenized_datasets[\"train\"].shuffle(seed=42).select(range(1000))\n",
    "small_eval_dataset = tokenized_datasets[\"test\"].shuffle(seed=42).select(range(500))"
   ]
  },
  {
   "cell_type": "code",
   "execution_count": 55,
   "id": "a5facc68",
   "metadata": {},
   "outputs": [],
   "source": [
    "from torch.utils.data import DataLoader\n",
    "\n",
    "train_dataloader = DataLoader(small_train_dataset, shuffle=True, batch_size=4)\n",
    "eval_dataloader = DataLoader(small_eval_dataset, batch_size=4)"
   ]
  },
  {
   "cell_type": "code",
   "execution_count": 56,
   "id": "5ce582fc",
   "metadata": {},
   "outputs": [
    {
     "name": "stderr",
     "output_type": "stream",
     "text": [
      "loading configuration file https://huggingface.co/distilbert-base-uncased/resolve/main/config.json from cache at C:\\Users\\DearUser/.cache\\huggingface\\transformers\\23454919702d26495337f3da04d1655c7ee010d5ec9d77bdb9e399e00302c0a1.91b885ab15d631bf9cee9dc9d25ece0afd932f2f5130eba28f2055b2220c0333\n",
      "Model config DistilBertConfig {\n",
      "  \"_name_or_path\": \"distilbert-base-uncased\",\n",
      "  \"activation\": \"gelu\",\n",
      "  \"architectures\": [\n",
      "    \"DistilBertForMaskedLM\"\n",
      "  ],\n",
      "  \"attention_dropout\": 0.1,\n",
      "  \"dim\": 768,\n",
      "  \"dropout\": 0.1,\n",
      "  \"hidden_dim\": 3072,\n",
      "  \"id2label\": {\n",
      "    \"0\": \"LABEL_0\",\n",
      "    \"1\": \"LABEL_1\",\n",
      "    \"2\": \"LABEL_2\",\n",
      "    \"3\": \"LABEL_3\",\n",
      "    \"4\": \"LABEL_4\",\n",
      "    \"5\": \"LABEL_5\",\n",
      "    \"6\": \"LABEL_6\",\n",
      "    \"7\": \"LABEL_7\"\n",
      "  },\n",
      "  \"initializer_range\": 0.02,\n",
      "  \"label2id\": {\n",
      "    \"LABEL_0\": 0,\n",
      "    \"LABEL_1\": 1,\n",
      "    \"LABEL_2\": 2,\n",
      "    \"LABEL_3\": 3,\n",
      "    \"LABEL_4\": 4,\n",
      "    \"LABEL_5\": 5,\n",
      "    \"LABEL_6\": 6,\n",
      "    \"LABEL_7\": 7\n",
      "  },\n",
      "  \"max_position_embeddings\": 512,\n",
      "  \"model_type\": \"distilbert\",\n",
      "  \"n_heads\": 12,\n",
      "  \"n_layers\": 6,\n",
      "  \"pad_token_id\": 0,\n",
      "  \"qa_dropout\": 0.1,\n",
      "  \"seq_classif_dropout\": 0.2,\n",
      "  \"sinusoidal_pos_embds\": false,\n",
      "  \"tie_weights_\": true,\n",
      "  \"transformers_version\": \"4.16.2\",\n",
      "  \"vocab_size\": 30522\n",
      "}\n",
      "\n",
      "loading weights file https://huggingface.co/distilbert-base-uncased/resolve/main/pytorch_model.bin from cache at C:\\Users\\DearUser/.cache\\huggingface\\transformers\\9c169103d7e5a73936dd2b627e42851bec0831212b677c637033ee4bce9ab5ee.126183e36667471617ae2f0835fab707baa54b731f991507ebbb55ea85adb12a\n",
      "Some weights of the model checkpoint at distilbert-base-uncased were not used when initializing DistilBertForSequenceClassification: ['vocab_transform.bias', 'vocab_projector.weight', 'vocab_transform.weight', 'vocab_projector.bias', 'vocab_layer_norm.weight', 'vocab_layer_norm.bias']\n",
      "- This IS expected if you are initializing DistilBertForSequenceClassification from the checkpoint of a model trained on another task or with another architecture (e.g. initializing a BertForSequenceClassification model from a BertForPreTraining model).\n",
      "- This IS NOT expected if you are initializing DistilBertForSequenceClassification from the checkpoint of a model that you expect to be exactly identical (initializing a BertForSequenceClassification model from a BertForSequenceClassification model).\n",
      "Some weights of DistilBertForSequenceClassification were not initialized from the model checkpoint at distilbert-base-uncased and are newly initialized: ['classifier.weight', 'classifier.bias', 'pre_classifier.weight', 'pre_classifier.bias']\n",
      "You should probably TRAIN this model on a down-stream task to be able to use it for predictions and inference.\n"
     ]
    }
   ],
   "source": [
    "from transformers import AutoModelForSequenceClassification\n",
    "\n",
    "model = AutoModelForSequenceClassification.from_pretrained(\"distilbert-base-uncased\", num_labels=8)"
   ]
  },
  {
   "cell_type": "code",
   "execution_count": 57,
   "id": "2842148f",
   "metadata": {},
   "outputs": [],
   "source": [
    "from torch.optim import AdamW\n",
    "\n",
    "optimizer = AdamW(model.parameters(), lr=5e-5)"
   ]
  },
  {
   "cell_type": "code",
   "execution_count": 58,
   "id": "424e1cb9",
   "metadata": {},
   "outputs": [],
   "source": [
    "import torch\n",
    "device = torch.device(\"cuda\") if torch.cuda.is_available() else torch.device(\"cpu\")"
   ]
  },
  {
   "cell_type": "code",
   "execution_count": 59,
   "id": "0a1817bd",
   "metadata": {},
   "outputs": [
    {
     "name": "stdout",
     "output_type": "stream",
     "text": [
      "cpu\n"
     ]
    }
   ],
   "source": [
    "print(device)"
   ]
  },
  {
   "cell_type": "code",
   "execution_count": 60,
   "id": "7638b04b",
   "metadata": {},
   "outputs": [
    {
     "data": {
      "text/plain": [
       "DistilBertForSequenceClassification(\n",
       "  (distilbert): DistilBertModel(\n",
       "    (embeddings): Embeddings(\n",
       "      (word_embeddings): Embedding(30522, 768, padding_idx=0)\n",
       "      (position_embeddings): Embedding(512, 768)\n",
       "      (LayerNorm): LayerNorm((768,), eps=1e-12, elementwise_affine=True)\n",
       "      (dropout): Dropout(p=0.1, inplace=False)\n",
       "    )\n",
       "    (transformer): Transformer(\n",
       "      (layer): ModuleList(\n",
       "        (0): TransformerBlock(\n",
       "          (attention): MultiHeadSelfAttention(\n",
       "            (dropout): Dropout(p=0.1, inplace=False)\n",
       "            (q_lin): Linear(in_features=768, out_features=768, bias=True)\n",
       "            (k_lin): Linear(in_features=768, out_features=768, bias=True)\n",
       "            (v_lin): Linear(in_features=768, out_features=768, bias=True)\n",
       "            (out_lin): Linear(in_features=768, out_features=768, bias=True)\n",
       "          )\n",
       "          (sa_layer_norm): LayerNorm((768,), eps=1e-12, elementwise_affine=True)\n",
       "          (ffn): FFN(\n",
       "            (dropout): Dropout(p=0.1, inplace=False)\n",
       "            (lin1): Linear(in_features=768, out_features=3072, bias=True)\n",
       "            (lin2): Linear(in_features=3072, out_features=768, bias=True)\n",
       "          )\n",
       "          (output_layer_norm): LayerNorm((768,), eps=1e-12, elementwise_affine=True)\n",
       "        )\n",
       "        (1): TransformerBlock(\n",
       "          (attention): MultiHeadSelfAttention(\n",
       "            (dropout): Dropout(p=0.1, inplace=False)\n",
       "            (q_lin): Linear(in_features=768, out_features=768, bias=True)\n",
       "            (k_lin): Linear(in_features=768, out_features=768, bias=True)\n",
       "            (v_lin): Linear(in_features=768, out_features=768, bias=True)\n",
       "            (out_lin): Linear(in_features=768, out_features=768, bias=True)\n",
       "          )\n",
       "          (sa_layer_norm): LayerNorm((768,), eps=1e-12, elementwise_affine=True)\n",
       "          (ffn): FFN(\n",
       "            (dropout): Dropout(p=0.1, inplace=False)\n",
       "            (lin1): Linear(in_features=768, out_features=3072, bias=True)\n",
       "            (lin2): Linear(in_features=3072, out_features=768, bias=True)\n",
       "          )\n",
       "          (output_layer_norm): LayerNorm((768,), eps=1e-12, elementwise_affine=True)\n",
       "        )\n",
       "        (2): TransformerBlock(\n",
       "          (attention): MultiHeadSelfAttention(\n",
       "            (dropout): Dropout(p=0.1, inplace=False)\n",
       "            (q_lin): Linear(in_features=768, out_features=768, bias=True)\n",
       "            (k_lin): Linear(in_features=768, out_features=768, bias=True)\n",
       "            (v_lin): Linear(in_features=768, out_features=768, bias=True)\n",
       "            (out_lin): Linear(in_features=768, out_features=768, bias=True)\n",
       "          )\n",
       "          (sa_layer_norm): LayerNorm((768,), eps=1e-12, elementwise_affine=True)\n",
       "          (ffn): FFN(\n",
       "            (dropout): Dropout(p=0.1, inplace=False)\n",
       "            (lin1): Linear(in_features=768, out_features=3072, bias=True)\n",
       "            (lin2): Linear(in_features=3072, out_features=768, bias=True)\n",
       "          )\n",
       "          (output_layer_norm): LayerNorm((768,), eps=1e-12, elementwise_affine=True)\n",
       "        )\n",
       "        (3): TransformerBlock(\n",
       "          (attention): MultiHeadSelfAttention(\n",
       "            (dropout): Dropout(p=0.1, inplace=False)\n",
       "            (q_lin): Linear(in_features=768, out_features=768, bias=True)\n",
       "            (k_lin): Linear(in_features=768, out_features=768, bias=True)\n",
       "            (v_lin): Linear(in_features=768, out_features=768, bias=True)\n",
       "            (out_lin): Linear(in_features=768, out_features=768, bias=True)\n",
       "          )\n",
       "          (sa_layer_norm): LayerNorm((768,), eps=1e-12, elementwise_affine=True)\n",
       "          (ffn): FFN(\n",
       "            (dropout): Dropout(p=0.1, inplace=False)\n",
       "            (lin1): Linear(in_features=768, out_features=3072, bias=True)\n",
       "            (lin2): Linear(in_features=3072, out_features=768, bias=True)\n",
       "          )\n",
       "          (output_layer_norm): LayerNorm((768,), eps=1e-12, elementwise_affine=True)\n",
       "        )\n",
       "        (4): TransformerBlock(\n",
       "          (attention): MultiHeadSelfAttention(\n",
       "            (dropout): Dropout(p=0.1, inplace=False)\n",
       "            (q_lin): Linear(in_features=768, out_features=768, bias=True)\n",
       "            (k_lin): Linear(in_features=768, out_features=768, bias=True)\n",
       "            (v_lin): Linear(in_features=768, out_features=768, bias=True)\n",
       "            (out_lin): Linear(in_features=768, out_features=768, bias=True)\n",
       "          )\n",
       "          (sa_layer_norm): LayerNorm((768,), eps=1e-12, elementwise_affine=True)\n",
       "          (ffn): FFN(\n",
       "            (dropout): Dropout(p=0.1, inplace=False)\n",
       "            (lin1): Linear(in_features=768, out_features=3072, bias=True)\n",
       "            (lin2): Linear(in_features=3072, out_features=768, bias=True)\n",
       "          )\n",
       "          (output_layer_norm): LayerNorm((768,), eps=1e-12, elementwise_affine=True)\n",
       "        )\n",
       "        (5): TransformerBlock(\n",
       "          (attention): MultiHeadSelfAttention(\n",
       "            (dropout): Dropout(p=0.1, inplace=False)\n",
       "            (q_lin): Linear(in_features=768, out_features=768, bias=True)\n",
       "            (k_lin): Linear(in_features=768, out_features=768, bias=True)\n",
       "            (v_lin): Linear(in_features=768, out_features=768, bias=True)\n",
       "            (out_lin): Linear(in_features=768, out_features=768, bias=True)\n",
       "          )\n",
       "          (sa_layer_norm): LayerNorm((768,), eps=1e-12, elementwise_affine=True)\n",
       "          (ffn): FFN(\n",
       "            (dropout): Dropout(p=0.1, inplace=False)\n",
       "            (lin1): Linear(in_features=768, out_features=3072, bias=True)\n",
       "            (lin2): Linear(in_features=3072, out_features=768, bias=True)\n",
       "          )\n",
       "          (output_layer_norm): LayerNorm((768,), eps=1e-12, elementwise_affine=True)\n",
       "        )\n",
       "      )\n",
       "    )\n",
       "  )\n",
       "  (pre_classifier): Linear(in_features=768, out_features=768, bias=True)\n",
       "  (classifier): Linear(in_features=768, out_features=8, bias=True)\n",
       "  (dropout): Dropout(p=0.2, inplace=False)\n",
       ")"
      ]
     },
     "execution_count": 60,
     "metadata": {},
     "output_type": "execute_result"
    }
   ],
   "source": [
    "model.to(device)"
   ]
  },
  {
   "cell_type": "code",
   "execution_count": 61,
   "id": "fcef2ed4",
   "metadata": {},
   "outputs": [],
   "source": [
    "from datasets import load_metric"
   ]
  },
  {
   "cell_type": "code",
   "execution_count": 62,
   "id": "7392ea92",
   "metadata": {},
   "outputs": [
    {
     "ename": "TypeError",
     "evalue": "new(): invalid data type 'numpy.str_'",
     "output_type": "error",
     "traceback": [
      "\u001b[1;31m---------------------------------------------------------------------------\u001b[0m",
      "\u001b[1;31mTypeError\u001b[0m                                 Traceback (most recent call last)",
      "\u001b[1;32m<ipython-input-62-f440eebcb97e>\u001b[0m in \u001b[0;36m<module>\u001b[1;34m\u001b[0m\n\u001b[0;32m      2\u001b[0m \u001b[1;33m\u001b[0m\u001b[0m\n\u001b[0;32m      3\u001b[0m \u001b[1;32mfor\u001b[0m \u001b[0mepoch\u001b[0m \u001b[1;32min\u001b[0m \u001b[0mrange\u001b[0m\u001b[1;33m(\u001b[0m\u001b[1;36m3\u001b[0m\u001b[1;33m)\u001b[0m\u001b[1;33m:\u001b[0m\u001b[1;33m\u001b[0m\u001b[1;33m\u001b[0m\u001b[0m\n\u001b[1;32m----> 4\u001b[1;33m     \u001b[1;32mfor\u001b[0m \u001b[0mbatch\u001b[0m \u001b[1;32min\u001b[0m \u001b[0mtrain_dataloader\u001b[0m\u001b[1;33m:\u001b[0m\u001b[1;33m\u001b[0m\u001b[1;33m\u001b[0m\u001b[0m\n\u001b[0m\u001b[0;32m      5\u001b[0m       \u001b[0mbatch\u001b[0m \u001b[1;33m=\u001b[0m \u001b[1;33m{\u001b[0m\u001b[0mk\u001b[0m\u001b[1;33m:\u001b[0m \u001b[0mv\u001b[0m\u001b[1;33m.\u001b[0m\u001b[0mto\u001b[0m\u001b[1;33m(\u001b[0m\u001b[0mdevice\u001b[0m\u001b[1;33m)\u001b[0m \u001b[1;32mfor\u001b[0m \u001b[0mk\u001b[0m\u001b[1;33m,\u001b[0m \u001b[0mv\u001b[0m \u001b[1;32min\u001b[0m \u001b[0mbatch\u001b[0m\u001b[1;33m.\u001b[0m\u001b[0mitems\u001b[0m\u001b[1;33m(\u001b[0m\u001b[1;33m)\u001b[0m\u001b[1;33m}\u001b[0m\u001b[1;33m\u001b[0m\u001b[1;33m\u001b[0m\u001b[0m\n\u001b[0;32m      6\u001b[0m       \u001b[0moutputs\u001b[0m \u001b[1;33m=\u001b[0m \u001b[0mmodel\u001b[0m\u001b[1;33m(\u001b[0m\u001b[1;33m**\u001b[0m\u001b[0mbatch\u001b[0m\u001b[1;33m)\u001b[0m\u001b[1;33m\u001b[0m\u001b[1;33m\u001b[0m\u001b[0m\n",
      "\u001b[1;32mc:\\ProgramData\\Anaconda3\\lib\\site-packages\\torch\\utils\\data\\dataloader.py\u001b[0m in \u001b[0;36m__next__\u001b[1;34m(self)\u001b[0m\n\u001b[0;32m    519\u001b[0m             \u001b[1;32mif\u001b[0m \u001b[0mself\u001b[0m\u001b[1;33m.\u001b[0m\u001b[0m_sampler_iter\u001b[0m \u001b[1;32mis\u001b[0m \u001b[1;32mNone\u001b[0m\u001b[1;33m:\u001b[0m\u001b[1;33m\u001b[0m\u001b[1;33m\u001b[0m\u001b[0m\n\u001b[0;32m    520\u001b[0m                 \u001b[0mself\u001b[0m\u001b[1;33m.\u001b[0m\u001b[0m_reset\u001b[0m\u001b[1;33m(\u001b[0m\u001b[1;33m)\u001b[0m\u001b[1;33m\u001b[0m\u001b[1;33m\u001b[0m\u001b[0m\n\u001b[1;32m--> 521\u001b[1;33m             \u001b[0mdata\u001b[0m \u001b[1;33m=\u001b[0m \u001b[0mself\u001b[0m\u001b[1;33m.\u001b[0m\u001b[0m_next_data\u001b[0m\u001b[1;33m(\u001b[0m\u001b[1;33m)\u001b[0m\u001b[1;33m\u001b[0m\u001b[1;33m\u001b[0m\u001b[0m\n\u001b[0m\u001b[0;32m    522\u001b[0m             \u001b[0mself\u001b[0m\u001b[1;33m.\u001b[0m\u001b[0m_num_yielded\u001b[0m \u001b[1;33m+=\u001b[0m \u001b[1;36m1\u001b[0m\u001b[1;33m\u001b[0m\u001b[1;33m\u001b[0m\u001b[0m\n\u001b[0;32m    523\u001b[0m             \u001b[1;32mif\u001b[0m \u001b[0mself\u001b[0m\u001b[1;33m.\u001b[0m\u001b[0m_dataset_kind\u001b[0m \u001b[1;33m==\u001b[0m \u001b[0m_DatasetKind\u001b[0m\u001b[1;33m.\u001b[0m\u001b[0mIterable\u001b[0m \u001b[1;32mand\u001b[0m\u001b[0;31m \u001b[0m\u001b[0;31m\\\u001b[0m\u001b[1;33m\u001b[0m\u001b[1;33m\u001b[0m\u001b[0m\n",
      "\u001b[1;32mc:\\ProgramData\\Anaconda3\\lib\\site-packages\\torch\\utils\\data\\dataloader.py\u001b[0m in \u001b[0;36m_next_data\u001b[1;34m(self)\u001b[0m\n\u001b[0;32m    559\u001b[0m     \u001b[1;32mdef\u001b[0m \u001b[0m_next_data\u001b[0m\u001b[1;33m(\u001b[0m\u001b[0mself\u001b[0m\u001b[1;33m)\u001b[0m\u001b[1;33m:\u001b[0m\u001b[1;33m\u001b[0m\u001b[1;33m\u001b[0m\u001b[0m\n\u001b[0;32m    560\u001b[0m         \u001b[0mindex\u001b[0m \u001b[1;33m=\u001b[0m \u001b[0mself\u001b[0m\u001b[1;33m.\u001b[0m\u001b[0m_next_index\u001b[0m\u001b[1;33m(\u001b[0m\u001b[1;33m)\u001b[0m  \u001b[1;31m# may raise StopIteration\u001b[0m\u001b[1;33m\u001b[0m\u001b[1;33m\u001b[0m\u001b[0m\n\u001b[1;32m--> 561\u001b[1;33m         \u001b[0mdata\u001b[0m \u001b[1;33m=\u001b[0m \u001b[0mself\u001b[0m\u001b[1;33m.\u001b[0m\u001b[0m_dataset_fetcher\u001b[0m\u001b[1;33m.\u001b[0m\u001b[0mfetch\u001b[0m\u001b[1;33m(\u001b[0m\u001b[0mindex\u001b[0m\u001b[1;33m)\u001b[0m  \u001b[1;31m# may raise StopIteration\u001b[0m\u001b[1;33m\u001b[0m\u001b[1;33m\u001b[0m\u001b[0m\n\u001b[0m\u001b[0;32m    562\u001b[0m         \u001b[1;32mif\u001b[0m \u001b[0mself\u001b[0m\u001b[1;33m.\u001b[0m\u001b[0m_pin_memory\u001b[0m\u001b[1;33m:\u001b[0m\u001b[1;33m\u001b[0m\u001b[1;33m\u001b[0m\u001b[0m\n\u001b[0;32m    563\u001b[0m             \u001b[0mdata\u001b[0m \u001b[1;33m=\u001b[0m \u001b[0m_utils\u001b[0m\u001b[1;33m.\u001b[0m\u001b[0mpin_memory\u001b[0m\u001b[1;33m.\u001b[0m\u001b[0mpin_memory\u001b[0m\u001b[1;33m(\u001b[0m\u001b[0mdata\u001b[0m\u001b[1;33m)\u001b[0m\u001b[1;33m\u001b[0m\u001b[1;33m\u001b[0m\u001b[0m\n",
      "\u001b[1;32mc:\\ProgramData\\Anaconda3\\lib\\site-packages\\torch\\utils\\data\\_utils\\fetch.py\u001b[0m in \u001b[0;36mfetch\u001b[1;34m(self, possibly_batched_index)\u001b[0m\n\u001b[0;32m     47\u001b[0m     \u001b[1;32mdef\u001b[0m \u001b[0mfetch\u001b[0m\u001b[1;33m(\u001b[0m\u001b[0mself\u001b[0m\u001b[1;33m,\u001b[0m \u001b[0mpossibly_batched_index\u001b[0m\u001b[1;33m)\u001b[0m\u001b[1;33m:\u001b[0m\u001b[1;33m\u001b[0m\u001b[1;33m\u001b[0m\u001b[0m\n\u001b[0;32m     48\u001b[0m         \u001b[1;32mif\u001b[0m \u001b[0mself\u001b[0m\u001b[1;33m.\u001b[0m\u001b[0mauto_collation\u001b[0m\u001b[1;33m:\u001b[0m\u001b[1;33m\u001b[0m\u001b[1;33m\u001b[0m\u001b[0m\n\u001b[1;32m---> 49\u001b[1;33m             \u001b[0mdata\u001b[0m \u001b[1;33m=\u001b[0m \u001b[1;33m[\u001b[0m\u001b[0mself\u001b[0m\u001b[1;33m.\u001b[0m\u001b[0mdataset\u001b[0m\u001b[1;33m[\u001b[0m\u001b[0midx\u001b[0m\u001b[1;33m]\u001b[0m \u001b[1;32mfor\u001b[0m \u001b[0midx\u001b[0m \u001b[1;32min\u001b[0m \u001b[0mpossibly_batched_index\u001b[0m\u001b[1;33m]\u001b[0m\u001b[1;33m\u001b[0m\u001b[1;33m\u001b[0m\u001b[0m\n\u001b[0m\u001b[0;32m     50\u001b[0m         \u001b[1;32melse\u001b[0m\u001b[1;33m:\u001b[0m\u001b[1;33m\u001b[0m\u001b[1;33m\u001b[0m\u001b[0m\n\u001b[0;32m     51\u001b[0m             \u001b[0mdata\u001b[0m \u001b[1;33m=\u001b[0m \u001b[0mself\u001b[0m\u001b[1;33m.\u001b[0m\u001b[0mdataset\u001b[0m\u001b[1;33m[\u001b[0m\u001b[0mpossibly_batched_index\u001b[0m\u001b[1;33m]\u001b[0m\u001b[1;33m\u001b[0m\u001b[1;33m\u001b[0m\u001b[0m\n",
      "\u001b[1;32mc:\\ProgramData\\Anaconda3\\lib\\site-packages\\torch\\utils\\data\\_utils\\fetch.py\u001b[0m in \u001b[0;36m<listcomp>\u001b[1;34m(.0)\u001b[0m\n\u001b[0;32m     47\u001b[0m     \u001b[1;32mdef\u001b[0m \u001b[0mfetch\u001b[0m\u001b[1;33m(\u001b[0m\u001b[0mself\u001b[0m\u001b[1;33m,\u001b[0m \u001b[0mpossibly_batched_index\u001b[0m\u001b[1;33m)\u001b[0m\u001b[1;33m:\u001b[0m\u001b[1;33m\u001b[0m\u001b[1;33m\u001b[0m\u001b[0m\n\u001b[0;32m     48\u001b[0m         \u001b[1;32mif\u001b[0m \u001b[0mself\u001b[0m\u001b[1;33m.\u001b[0m\u001b[0mauto_collation\u001b[0m\u001b[1;33m:\u001b[0m\u001b[1;33m\u001b[0m\u001b[1;33m\u001b[0m\u001b[0m\n\u001b[1;32m---> 49\u001b[1;33m             \u001b[0mdata\u001b[0m \u001b[1;33m=\u001b[0m \u001b[1;33m[\u001b[0m\u001b[0mself\u001b[0m\u001b[1;33m.\u001b[0m\u001b[0mdataset\u001b[0m\u001b[1;33m[\u001b[0m\u001b[0midx\u001b[0m\u001b[1;33m]\u001b[0m \u001b[1;32mfor\u001b[0m \u001b[0midx\u001b[0m \u001b[1;32min\u001b[0m \u001b[0mpossibly_batched_index\u001b[0m\u001b[1;33m]\u001b[0m\u001b[1;33m\u001b[0m\u001b[1;33m\u001b[0m\u001b[0m\n\u001b[0m\u001b[0;32m     50\u001b[0m         \u001b[1;32melse\u001b[0m\u001b[1;33m:\u001b[0m\u001b[1;33m\u001b[0m\u001b[1;33m\u001b[0m\u001b[0m\n\u001b[0;32m     51\u001b[0m             \u001b[0mdata\u001b[0m \u001b[1;33m=\u001b[0m \u001b[0mself\u001b[0m\u001b[1;33m.\u001b[0m\u001b[0mdataset\u001b[0m\u001b[1;33m[\u001b[0m\u001b[0mpossibly_batched_index\u001b[0m\u001b[1;33m]\u001b[0m\u001b[1;33m\u001b[0m\u001b[1;33m\u001b[0m\u001b[0m\n",
      "\u001b[1;32mc:\\ProgramData\\Anaconda3\\lib\\site-packages\\datasets\\arrow_dataset.py\u001b[0m in \u001b[0;36m__getitem__\u001b[1;34m(self, key)\u001b[0m\n\u001b[0;32m   1924\u001b[0m         \u001b[1;34m\"\"\"Can be used to index columns (by string names) or rows (by integer index or iterable of indices or bools).\"\"\"\u001b[0m\u001b[1;33m\u001b[0m\u001b[1;33m\u001b[0m\u001b[0m\n\u001b[0;32m   1925\u001b[0m         return self._getitem(\n\u001b[1;32m-> 1926\u001b[1;33m             \u001b[0mkey\u001b[0m\u001b[1;33m,\u001b[0m\u001b[1;33m\u001b[0m\u001b[1;33m\u001b[0m\u001b[0m\n\u001b[0m\u001b[0;32m   1927\u001b[0m         )\n\u001b[0;32m   1928\u001b[0m \u001b[1;33m\u001b[0m\u001b[0m\n",
      "\u001b[1;32mc:\\ProgramData\\Anaconda3\\lib\\site-packages\\datasets\\arrow_dataset.py\u001b[0m in \u001b[0;36m_getitem\u001b[1;34m(self, key, decoded, **kwargs)\u001b[0m\n\u001b[0;32m   1909\u001b[0m         \u001b[0mpa_subtable\u001b[0m \u001b[1;33m=\u001b[0m \u001b[0mquery_table\u001b[0m\u001b[1;33m(\u001b[0m\u001b[0mself\u001b[0m\u001b[1;33m.\u001b[0m\u001b[0m_data\u001b[0m\u001b[1;33m,\u001b[0m \u001b[0mkey\u001b[0m\u001b[1;33m,\u001b[0m \u001b[0mindices\u001b[0m\u001b[1;33m=\u001b[0m\u001b[0mself\u001b[0m\u001b[1;33m.\u001b[0m\u001b[0m_indices\u001b[0m \u001b[1;32mif\u001b[0m \u001b[0mself\u001b[0m\u001b[1;33m.\u001b[0m\u001b[0m_indices\u001b[0m \u001b[1;32mis\u001b[0m \u001b[1;32mnot\u001b[0m \u001b[1;32mNone\u001b[0m \u001b[1;32melse\u001b[0m \u001b[1;32mNone\u001b[0m\u001b[1;33m)\u001b[0m\u001b[1;33m\u001b[0m\u001b[1;33m\u001b[0m\u001b[0m\n\u001b[0;32m   1910\u001b[0m         formatted_output = format_table(\n\u001b[1;32m-> 1911\u001b[1;33m             \u001b[0mpa_subtable\u001b[0m\u001b[1;33m,\u001b[0m \u001b[0mkey\u001b[0m\u001b[1;33m,\u001b[0m \u001b[0mformatter\u001b[0m\u001b[1;33m=\u001b[0m\u001b[0mformatter\u001b[0m\u001b[1;33m,\u001b[0m \u001b[0mformat_columns\u001b[0m\u001b[1;33m=\u001b[0m\u001b[0mformat_columns\u001b[0m\u001b[1;33m,\u001b[0m \u001b[0moutput_all_columns\u001b[0m\u001b[1;33m=\u001b[0m\u001b[0moutput_all_columns\u001b[0m\u001b[1;33m\u001b[0m\u001b[1;33m\u001b[0m\u001b[0m\n\u001b[0m\u001b[0;32m   1912\u001b[0m         )\n\u001b[0;32m   1913\u001b[0m         \u001b[1;32mreturn\u001b[0m \u001b[0mformatted_output\u001b[0m\u001b[1;33m\u001b[0m\u001b[1;33m\u001b[0m\u001b[0m\n",
      "\u001b[1;32mc:\\ProgramData\\Anaconda3\\lib\\site-packages\\datasets\\formatting\\formatting.py\u001b[0m in \u001b[0;36mformat_table\u001b[1;34m(table, key, formatter, format_columns, output_all_columns)\u001b[0m\n\u001b[0;32m    530\u001b[0m     \u001b[0mpython_formatter\u001b[0m \u001b[1;33m=\u001b[0m \u001b[0mPythonFormatter\u001b[0m\u001b[1;33m(\u001b[0m\u001b[0mfeatures\u001b[0m\u001b[1;33m=\u001b[0m\u001b[1;32mNone\u001b[0m\u001b[1;33m)\u001b[0m\u001b[1;33m\u001b[0m\u001b[1;33m\u001b[0m\u001b[0m\n\u001b[0;32m    531\u001b[0m     \u001b[1;32mif\u001b[0m \u001b[0mformat_columns\u001b[0m \u001b[1;32mis\u001b[0m \u001b[1;32mNone\u001b[0m\u001b[1;33m:\u001b[0m\u001b[1;33m\u001b[0m\u001b[1;33m\u001b[0m\u001b[0m\n\u001b[1;32m--> 532\u001b[1;33m         \u001b[1;32mreturn\u001b[0m \u001b[0mformatter\u001b[0m\u001b[1;33m(\u001b[0m\u001b[0mpa_table\u001b[0m\u001b[1;33m,\u001b[0m \u001b[0mquery_type\u001b[0m\u001b[1;33m=\u001b[0m\u001b[0mquery_type\u001b[0m\u001b[1;33m)\u001b[0m\u001b[1;33m\u001b[0m\u001b[1;33m\u001b[0m\u001b[0m\n\u001b[0m\u001b[0;32m    533\u001b[0m     \u001b[1;32melif\u001b[0m \u001b[0mquery_type\u001b[0m \u001b[1;33m==\u001b[0m \u001b[1;34m\"column\"\u001b[0m\u001b[1;33m:\u001b[0m\u001b[1;33m\u001b[0m\u001b[1;33m\u001b[0m\u001b[0m\n\u001b[0;32m    534\u001b[0m         \u001b[1;32mif\u001b[0m \u001b[0mkey\u001b[0m \u001b[1;32min\u001b[0m \u001b[0mformat_columns\u001b[0m\u001b[1;33m:\u001b[0m\u001b[1;33m\u001b[0m\u001b[1;33m\u001b[0m\u001b[0m\n",
      "\u001b[1;32mc:\\ProgramData\\Anaconda3\\lib\\site-packages\\datasets\\formatting\\formatting.py\u001b[0m in \u001b[0;36m__call__\u001b[1;34m(self, pa_table, query_type)\u001b[0m\n\u001b[0;32m    279\u001b[0m     \u001b[1;32mdef\u001b[0m \u001b[0m__call__\u001b[0m\u001b[1;33m(\u001b[0m\u001b[0mself\u001b[0m\u001b[1;33m,\u001b[0m \u001b[0mpa_table\u001b[0m\u001b[1;33m:\u001b[0m \u001b[0mpa\u001b[0m\u001b[1;33m.\u001b[0m\u001b[0mTable\u001b[0m\u001b[1;33m,\u001b[0m \u001b[0mquery_type\u001b[0m\u001b[1;33m:\u001b[0m \u001b[0mstr\u001b[0m\u001b[1;33m)\u001b[0m \u001b[1;33m->\u001b[0m \u001b[0mUnion\u001b[0m\u001b[1;33m[\u001b[0m\u001b[0mRowFormat\u001b[0m\u001b[1;33m,\u001b[0m \u001b[0mColumnFormat\u001b[0m\u001b[1;33m,\u001b[0m \u001b[0mBatchFormat\u001b[0m\u001b[1;33m]\u001b[0m\u001b[1;33m:\u001b[0m\u001b[1;33m\u001b[0m\u001b[1;33m\u001b[0m\u001b[0m\n\u001b[0;32m    280\u001b[0m         \u001b[1;32mif\u001b[0m \u001b[0mquery_type\u001b[0m \u001b[1;33m==\u001b[0m \u001b[1;34m\"row\"\u001b[0m\u001b[1;33m:\u001b[0m\u001b[1;33m\u001b[0m\u001b[1;33m\u001b[0m\u001b[0m\n\u001b[1;32m--> 281\u001b[1;33m             \u001b[1;32mreturn\u001b[0m \u001b[0mself\u001b[0m\u001b[1;33m.\u001b[0m\u001b[0mformat_row\u001b[0m\u001b[1;33m(\u001b[0m\u001b[0mpa_table\u001b[0m\u001b[1;33m)\u001b[0m\u001b[1;33m\u001b[0m\u001b[1;33m\u001b[0m\u001b[0m\n\u001b[0m\u001b[0;32m    282\u001b[0m         \u001b[1;32melif\u001b[0m \u001b[0mquery_type\u001b[0m \u001b[1;33m==\u001b[0m \u001b[1;34m\"column\"\u001b[0m\u001b[1;33m:\u001b[0m\u001b[1;33m\u001b[0m\u001b[1;33m\u001b[0m\u001b[0m\n\u001b[0;32m    283\u001b[0m             \u001b[1;32mreturn\u001b[0m \u001b[0mself\u001b[0m\u001b[1;33m.\u001b[0m\u001b[0mformat_column\u001b[0m\u001b[1;33m(\u001b[0m\u001b[0mpa_table\u001b[0m\u001b[1;33m)\u001b[0m\u001b[1;33m\u001b[0m\u001b[1;33m\u001b[0m\u001b[0m\n",
      "\u001b[1;32mc:\\ProgramData\\Anaconda3\\lib\\site-packages\\datasets\\formatting\\torch_formatter.py\u001b[0m in \u001b[0;36mformat_row\u001b[1;34m(self, pa_table)\u001b[0m\n\u001b[0;32m     56\u001b[0m     \u001b[1;32mdef\u001b[0m \u001b[0mformat_row\u001b[0m\u001b[1;33m(\u001b[0m\u001b[0mself\u001b[0m\u001b[1;33m,\u001b[0m \u001b[0mpa_table\u001b[0m\u001b[1;33m:\u001b[0m \u001b[0mpa\u001b[0m\u001b[1;33m.\u001b[0m\u001b[0mTable\u001b[0m\u001b[1;33m)\u001b[0m \u001b[1;33m->\u001b[0m \u001b[0mdict\u001b[0m\u001b[1;33m:\u001b[0m\u001b[1;33m\u001b[0m\u001b[1;33m\u001b[0m\u001b[0m\n\u001b[0;32m     57\u001b[0m         \u001b[0mrow\u001b[0m \u001b[1;33m=\u001b[0m \u001b[0mself\u001b[0m\u001b[1;33m.\u001b[0m\u001b[0mnumpy_arrow_extractor\u001b[0m\u001b[1;33m(\u001b[0m\u001b[1;33m)\u001b[0m\u001b[1;33m.\u001b[0m\u001b[0mextract_row\u001b[0m\u001b[1;33m(\u001b[0m\u001b[0mpa_table\u001b[0m\u001b[1;33m)\u001b[0m\u001b[1;33m\u001b[0m\u001b[1;33m\u001b[0m\u001b[0m\n\u001b[1;32m---> 58\u001b[1;33m         \u001b[1;32mreturn\u001b[0m \u001b[0mself\u001b[0m\u001b[1;33m.\u001b[0m\u001b[0mrecursive_tensorize\u001b[0m\u001b[1;33m(\u001b[0m\u001b[0mrow\u001b[0m\u001b[1;33m)\u001b[0m\u001b[1;33m\u001b[0m\u001b[1;33m\u001b[0m\u001b[0m\n\u001b[0m\u001b[0;32m     59\u001b[0m \u001b[1;33m\u001b[0m\u001b[0m\n\u001b[0;32m     60\u001b[0m     \u001b[1;32mdef\u001b[0m \u001b[0mformat_column\u001b[0m\u001b[1;33m(\u001b[0m\u001b[0mself\u001b[0m\u001b[1;33m,\u001b[0m \u001b[0mpa_table\u001b[0m\u001b[1;33m:\u001b[0m \u001b[0mpa\u001b[0m\u001b[1;33m.\u001b[0m\u001b[0mTable\u001b[0m\u001b[1;33m)\u001b[0m \u001b[1;33m->\u001b[0m \u001b[1;34m\"torch.Tensor\"\u001b[0m\u001b[1;33m:\u001b[0m\u001b[1;33m\u001b[0m\u001b[1;33m\u001b[0m\u001b[0m\n",
      "\u001b[1;32mc:\\ProgramData\\Anaconda3\\lib\\site-packages\\datasets\\formatting\\torch_formatter.py\u001b[0m in \u001b[0;36mrecursive_tensorize\u001b[1;34m(self, data_struct)\u001b[0m\n\u001b[0;32m     52\u001b[0m \u001b[1;33m\u001b[0m\u001b[0m\n\u001b[0;32m     53\u001b[0m     \u001b[1;32mdef\u001b[0m \u001b[0mrecursive_tensorize\u001b[0m\u001b[1;33m(\u001b[0m\u001b[0mself\u001b[0m\u001b[1;33m,\u001b[0m \u001b[0mdata_struct\u001b[0m\u001b[1;33m:\u001b[0m \u001b[0mdict\u001b[0m\u001b[1;33m)\u001b[0m\u001b[1;33m:\u001b[0m\u001b[1;33m\u001b[0m\u001b[1;33m\u001b[0m\u001b[0m\n\u001b[1;32m---> 54\u001b[1;33m         \u001b[1;32mreturn\u001b[0m \u001b[0mmap_nested\u001b[0m\u001b[1;33m(\u001b[0m\u001b[0mself\u001b[0m\u001b[1;33m.\u001b[0m\u001b[0m_recursive_tensorize\u001b[0m\u001b[1;33m,\u001b[0m \u001b[0mdata_struct\u001b[0m\u001b[1;33m,\u001b[0m \u001b[0mmap_list\u001b[0m\u001b[1;33m=\u001b[0m\u001b[1;32mFalse\u001b[0m\u001b[1;33m)\u001b[0m\u001b[1;33m\u001b[0m\u001b[1;33m\u001b[0m\u001b[0m\n\u001b[0m\u001b[0;32m     55\u001b[0m \u001b[1;33m\u001b[0m\u001b[0m\n\u001b[0;32m     56\u001b[0m     \u001b[1;32mdef\u001b[0m \u001b[0mformat_row\u001b[0m\u001b[1;33m(\u001b[0m\u001b[0mself\u001b[0m\u001b[1;33m,\u001b[0m \u001b[0mpa_table\u001b[0m\u001b[1;33m:\u001b[0m \u001b[0mpa\u001b[0m\u001b[1;33m.\u001b[0m\u001b[0mTable\u001b[0m\u001b[1;33m)\u001b[0m \u001b[1;33m->\u001b[0m \u001b[0mdict\u001b[0m\u001b[1;33m:\u001b[0m\u001b[1;33m\u001b[0m\u001b[1;33m\u001b[0m\u001b[0m\n",
      "\u001b[1;32mc:\\ProgramData\\Anaconda3\\lib\\site-packages\\datasets\\utils\\py_utils.py\u001b[0m in \u001b[0;36mmap_nested\u001b[1;34m(function, data_struct, dict_only, map_list, map_tuple, map_numpy, num_proc, types, disable_tqdm)\u001b[0m\n\u001b[0;32m    260\u001b[0m         mapped = [\n\u001b[0;32m    261\u001b[0m             \u001b[0m_single_map_nested\u001b[0m\u001b[1;33m(\u001b[0m\u001b[1;33m(\u001b[0m\u001b[0mfunction\u001b[0m\u001b[1;33m,\u001b[0m \u001b[0mobj\u001b[0m\u001b[1;33m,\u001b[0m \u001b[0mtypes\u001b[0m\u001b[1;33m,\u001b[0m \u001b[1;32mNone\u001b[0m\u001b[1;33m,\u001b[0m \u001b[1;32mTrue\u001b[0m\u001b[1;33m)\u001b[0m\u001b[1;33m)\u001b[0m\u001b[1;33m\u001b[0m\u001b[1;33m\u001b[0m\u001b[0m\n\u001b[1;32m--> 262\u001b[1;33m             \u001b[1;32mfor\u001b[0m \u001b[0mobj\u001b[0m \u001b[1;32min\u001b[0m \u001b[0mutils\u001b[0m\u001b[1;33m.\u001b[0m\u001b[0mtqdm\u001b[0m\u001b[1;33m(\u001b[0m\u001b[0miterable\u001b[0m\u001b[1;33m,\u001b[0m \u001b[0mdisable\u001b[0m\u001b[1;33m=\u001b[0m\u001b[0mdisable_tqdm\u001b[0m\u001b[1;33m)\u001b[0m\u001b[1;33m\u001b[0m\u001b[1;33m\u001b[0m\u001b[0m\n\u001b[0m\u001b[0;32m    263\u001b[0m         ]\n\u001b[0;32m    264\u001b[0m     \u001b[1;32melse\u001b[0m\u001b[1;33m:\u001b[0m\u001b[1;33m\u001b[0m\u001b[1;33m\u001b[0m\u001b[0m\n",
      "\u001b[1;32mc:\\ProgramData\\Anaconda3\\lib\\site-packages\\datasets\\utils\\py_utils.py\u001b[0m in \u001b[0;36m<listcomp>\u001b[1;34m(.0)\u001b[0m\n\u001b[0;32m    260\u001b[0m         mapped = [\n\u001b[0;32m    261\u001b[0m             \u001b[0m_single_map_nested\u001b[0m\u001b[1;33m(\u001b[0m\u001b[1;33m(\u001b[0m\u001b[0mfunction\u001b[0m\u001b[1;33m,\u001b[0m \u001b[0mobj\u001b[0m\u001b[1;33m,\u001b[0m \u001b[0mtypes\u001b[0m\u001b[1;33m,\u001b[0m \u001b[1;32mNone\u001b[0m\u001b[1;33m,\u001b[0m \u001b[1;32mTrue\u001b[0m\u001b[1;33m)\u001b[0m\u001b[1;33m)\u001b[0m\u001b[1;33m\u001b[0m\u001b[1;33m\u001b[0m\u001b[0m\n\u001b[1;32m--> 262\u001b[1;33m             \u001b[1;32mfor\u001b[0m \u001b[0mobj\u001b[0m \u001b[1;32min\u001b[0m \u001b[0mutils\u001b[0m\u001b[1;33m.\u001b[0m\u001b[0mtqdm\u001b[0m\u001b[1;33m(\u001b[0m\u001b[0miterable\u001b[0m\u001b[1;33m,\u001b[0m \u001b[0mdisable\u001b[0m\u001b[1;33m=\u001b[0m\u001b[0mdisable_tqdm\u001b[0m\u001b[1;33m)\u001b[0m\u001b[1;33m\u001b[0m\u001b[1;33m\u001b[0m\u001b[0m\n\u001b[0m\u001b[0;32m    263\u001b[0m         ]\n\u001b[0;32m    264\u001b[0m     \u001b[1;32melse\u001b[0m\u001b[1;33m:\u001b[0m\u001b[1;33m\u001b[0m\u001b[1;33m\u001b[0m\u001b[0m\n",
      "\u001b[1;32mc:\\ProgramData\\Anaconda3\\lib\\site-packages\\datasets\\utils\\py_utils.py\u001b[0m in \u001b[0;36m_single_map_nested\u001b[1;34m(args)\u001b[0m\n\u001b[0;32m    194\u001b[0m     \u001b[1;31m# Singleton first to spare some computation\u001b[0m\u001b[1;33m\u001b[0m\u001b[1;33m\u001b[0m\u001b[1;33m\u001b[0m\u001b[0m\n\u001b[0;32m    195\u001b[0m     \u001b[1;32mif\u001b[0m \u001b[1;32mnot\u001b[0m \u001b[0misinstance\u001b[0m\u001b[1;33m(\u001b[0m\u001b[0mdata_struct\u001b[0m\u001b[1;33m,\u001b[0m \u001b[0mdict\u001b[0m\u001b[1;33m)\u001b[0m \u001b[1;32mand\u001b[0m \u001b[1;32mnot\u001b[0m \u001b[0misinstance\u001b[0m\u001b[1;33m(\u001b[0m\u001b[0mdata_struct\u001b[0m\u001b[1;33m,\u001b[0m \u001b[0mtypes\u001b[0m\u001b[1;33m)\u001b[0m\u001b[1;33m:\u001b[0m\u001b[1;33m\u001b[0m\u001b[1;33m\u001b[0m\u001b[0m\n\u001b[1;32m--> 196\u001b[1;33m         \u001b[1;32mreturn\u001b[0m \u001b[0mfunction\u001b[0m\u001b[1;33m(\u001b[0m\u001b[0mdata_struct\u001b[0m\u001b[1;33m)\u001b[0m\u001b[1;33m\u001b[0m\u001b[1;33m\u001b[0m\u001b[0m\n\u001b[0m\u001b[0;32m    197\u001b[0m \u001b[1;33m\u001b[0m\u001b[0m\n\u001b[0;32m    198\u001b[0m     \u001b[1;31m# Reduce logging to keep things readable in multiprocessing with tqdm\u001b[0m\u001b[1;33m\u001b[0m\u001b[1;33m\u001b[0m\u001b[1;33m\u001b[0m\u001b[0m\n",
      "\u001b[1;32mc:\\ProgramData\\Anaconda3\\lib\\site-packages\\datasets\\formatting\\torch_formatter.py\u001b[0m in \u001b[0;36m_recursive_tensorize\u001b[1;34m(self, data_struct)\u001b[0m\n\u001b[0;32m     49\u001b[0m             \u001b[1;32mif\u001b[0m \u001b[0mdata_struct\u001b[0m\u001b[1;33m.\u001b[0m\u001b[0mdtype\u001b[0m \u001b[1;33m==\u001b[0m \u001b[0mnp\u001b[0m\u001b[1;33m.\u001b[0m\u001b[0mobject\u001b[0m\u001b[1;33m:\u001b[0m  \u001b[1;31m# pytorch tensors cannot be instantied from an array of objects\u001b[0m\u001b[1;33m\u001b[0m\u001b[1;33m\u001b[0m\u001b[0m\n\u001b[0;32m     50\u001b[0m                 \u001b[1;32mreturn\u001b[0m \u001b[1;33m[\u001b[0m\u001b[0mself\u001b[0m\u001b[1;33m.\u001b[0m\u001b[0mrecursive_tensorize\u001b[0m\u001b[1;33m(\u001b[0m\u001b[0msubstruct\u001b[0m\u001b[1;33m)\u001b[0m \u001b[1;32mfor\u001b[0m \u001b[0msubstruct\u001b[0m \u001b[1;32min\u001b[0m \u001b[0mdata_struct\u001b[0m\u001b[1;33m]\u001b[0m\u001b[1;33m\u001b[0m\u001b[1;33m\u001b[0m\u001b[0m\n\u001b[1;32m---> 51\u001b[1;33m         \u001b[1;32mreturn\u001b[0m \u001b[0mself\u001b[0m\u001b[1;33m.\u001b[0m\u001b[0m_tensorize\u001b[0m\u001b[1;33m(\u001b[0m\u001b[0mdata_struct\u001b[0m\u001b[1;33m)\u001b[0m\u001b[1;33m\u001b[0m\u001b[1;33m\u001b[0m\u001b[0m\n\u001b[0m\u001b[0;32m     52\u001b[0m \u001b[1;33m\u001b[0m\u001b[0m\n\u001b[0;32m     53\u001b[0m     \u001b[1;32mdef\u001b[0m \u001b[0mrecursive_tensorize\u001b[0m\u001b[1;33m(\u001b[0m\u001b[0mself\u001b[0m\u001b[1;33m,\u001b[0m \u001b[0mdata_struct\u001b[0m\u001b[1;33m:\u001b[0m \u001b[0mdict\u001b[0m\u001b[1;33m)\u001b[0m\u001b[1;33m:\u001b[0m\u001b[1;33m\u001b[0m\u001b[1;33m\u001b[0m\u001b[0m\n",
      "\u001b[1;32mc:\\ProgramData\\Anaconda3\\lib\\site-packages\\datasets\\formatting\\torch_formatter.py\u001b[0m in \u001b[0;36m_tensorize\u001b[1;34m(self, value)\u001b[0m\n\u001b[0;32m     41\u001b[0m             \u001b[0mdefault_dtype\u001b[0m \u001b[1;33m=\u001b[0m \u001b[1;33m{\u001b[0m\u001b[1;34m\"dtype\"\u001b[0m\u001b[1;33m:\u001b[0m \u001b[0mtorch\u001b[0m\u001b[1;33m.\u001b[0m\u001b[0mfloat32\u001b[0m\u001b[1;33m}\u001b[0m\u001b[1;33m\u001b[0m\u001b[1;33m\u001b[0m\u001b[0m\n\u001b[0;32m     42\u001b[0m \u001b[1;33m\u001b[0m\u001b[0m\n\u001b[1;32m---> 43\u001b[1;33m         \u001b[1;32mreturn\u001b[0m \u001b[0mtorch\u001b[0m\u001b[1;33m.\u001b[0m\u001b[0mtensor\u001b[0m\u001b[1;33m(\u001b[0m\u001b[0mvalue\u001b[0m\u001b[1;33m,\u001b[0m \u001b[1;33m**\u001b[0m\u001b[1;33m{\u001b[0m\u001b[1;33m**\u001b[0m\u001b[0mdefault_dtype\u001b[0m\u001b[1;33m,\u001b[0m \u001b[1;33m**\u001b[0m\u001b[0mself\u001b[0m\u001b[1;33m.\u001b[0m\u001b[0mtorch_tensor_kwargs\u001b[0m\u001b[1;33m}\u001b[0m\u001b[1;33m)\u001b[0m\u001b[1;33m\u001b[0m\u001b[1;33m\u001b[0m\u001b[0m\n\u001b[0m\u001b[0;32m     44\u001b[0m \u001b[1;33m\u001b[0m\u001b[0m\n\u001b[0;32m     45\u001b[0m     \u001b[1;32mdef\u001b[0m \u001b[0m_recursive_tensorize\u001b[0m\u001b[1;33m(\u001b[0m\u001b[0mself\u001b[0m\u001b[1;33m,\u001b[0m \u001b[0mdata_struct\u001b[0m\u001b[1;33m:\u001b[0m \u001b[0mdict\u001b[0m\u001b[1;33m)\u001b[0m\u001b[1;33m:\u001b[0m\u001b[1;33m\u001b[0m\u001b[1;33m\u001b[0m\u001b[0m\n",
      "\u001b[1;31mTypeError\u001b[0m: new(): invalid data type 'numpy.str_'"
     ]
    }
   ],
   "source": [
    "model.train()\n",
    "\n",
    "for epoch in range(3):\n",
    "    for batch in train_dataloader:\n",
    "      batch = {k: v.to(device) for k, v in batch.items()}\n",
    "      outputs = model(**batch)\n",
    "      loss = outputs.loss\n",
    "      loss.backward()\n",
    "      optimizer.step()\n",
    "      optimizer.zero_grad()\n",
    "\n",
    "metric = load_metric(\"accuracy\")\n",
    "model.eval()\n",
    "for batch in eval_dataloader:\n",
    "    batch = {k: v.to(device) for k, v in batch.items()}\n",
    "    with torch.no_grad():\n",
    "        outputs = model(**batch)\n",
    "\n",
    "    logits = outputs.logits\n",
    "    predictions = torch.argmax(logits, dim=-1)\n",
    "    metric.add_batch(predictions=predictions, references=batch[\"labels\"])\n"
   ]
  },
  {
   "cell_type": "code",
   "execution_count": null,
   "id": "d2bc5ea8",
   "metadata": {},
   "outputs": [],
   "source": [
    "metric.compute()"
   ]
  }
 ],
 "metadata": {
  "interpreter": {
   "hash": "ad2bdc8ecc057115af97d19610ffacc2b4e99fae6737bb82f5d7fb13d2f2c186"
  },
  "kernelspec": {
   "display_name": "Python 3.7.4 ('base')",
   "language": "python",
   "name": "python3"
  },
  "language_info": {
   "codemirror_mode": {
    "name": "ipython",
    "version": 3
   },
   "file_extension": ".py",
   "mimetype": "text/x-python",
   "name": "python",
   "nbconvert_exporter": "python",
   "pygments_lexer": "ipython3",
   "version": "3.7.4"
  }
 },
 "nbformat": 4,
 "nbformat_minor": 5
}

{
 "cells": [
  {
   "cell_type": "code",
   "execution_count": null,
   "id": "1ecd2211",
   "metadata": {},
   "outputs": [],
   "source": [
    "import pandas as pd\n",
    "import json\n",
    "import seaborn as sns\n",
    "import matplotlib.pyplot as plt\n",
    "import numpy as np\n",
    "from sklearn.model_selection import train_test_split\n",
    "import spacy"
   ]
  },
  {
   "cell_type": "code",
   "execution_count": null,
   "id": "30e18244",
   "metadata": {},
   "outputs": [],
   "source": [
    "df=pd.read_csv(\"../data/newcorp.csv\")"
   ]
  },
  {
   "cell_type": "code",
   "execution_count": null,
   "id": "ec85f83f",
   "metadata": {},
   "outputs": [],
   "source": [
    "df.info()"
   ]
  },
  {
   "cell_type": "code",
   "execution_count": null,
   "id": "b4c72e83",
   "metadata": {},
   "outputs": [],
   "source": [
    "text_list=[]\n",
    "label_list=[]"
   ]
  },
  {
   "cell_type": "code",
   "execution_count": null,
   "id": "071a6bd3",
   "metadata": {},
   "outputs": [],
   "source": [
    "def datasetmaker(x):\n",
    "    x=json.loads(x)\n",
    "    for i in range(0,len(x[\"paragraphs\"])):\n",
    "        for j in range(0,len(x[\"paragraphs\"][i])):\n",
    "            text_list.append(x[\"paragraphs\"][i][j][\"text\"])\n",
    "            label_list.append(x[\"paragraphs\"][i][j][\"label\"])"
   ]
  },
  {
   "cell_type": "code",
   "execution_count": null,
   "id": "f06b936c",
   "metadata": {},
   "outputs": [],
   "source": [
    "df[\"article_segments\"].apply(lambda x:datasetmaker(x))"
   ]
  },
  {
   "cell_type": "code",
   "execution_count": null,
   "id": "be74a90d",
   "metadata": {},
   "outputs": [],
   "source": [
    "len(text_list)"
   ]
  },
  {
   "cell_type": "code",
   "execution_count": null,
   "id": "f2ff0695",
   "metadata": {},
   "outputs": [],
   "source": [
    "len(label_list)"
   ]
  },
  {
   "cell_type": "code",
   "execution_count": null,
   "id": "158a4663",
   "metadata": {},
   "outputs": [],
   "source": [
    "df_main={\"text\":text_list,\"label\":label_list}"
   ]
  },
  {
   "cell_type": "code",
   "execution_count": null,
   "id": "1bc50e98",
   "metadata": {},
   "outputs": [],
   "source": [
    "df_main=pd.DataFrame(df_main)"
   ]
  },
  {
   "cell_type": "code",
   "execution_count": null,
   "id": "5ccb2423",
   "metadata": {},
   "outputs": [],
   "source": [
    "df_main.head()"
   ]
  },
  {
   "cell_type": "code",
   "execution_count": null,
   "id": "9f38a554",
   "metadata": {},
   "outputs": [],
   "source": [
    "len(text_list)"
   ]
  },
  {
   "cell_type": "code",
   "execution_count": null,
   "id": "085a97a3",
   "metadata": {},
   "outputs": [],
   "source": [
    "df_main[\"label\"].value_counts()"
   ]
  },
  {
   "cell_type": "code",
   "execution_count": null,
   "id": "40c27491",
   "metadata": {},
   "outputs": [],
   "source": [
    "sns.countplot(data=df_main,x=\"label\")\n",
    "plt.xticks(rotation=45, ha='right')"
   ]
  },
  {
   "cell_type": "code",
   "execution_count": null,
   "id": "179cd627",
   "metadata": {},
   "outputs": [],
   "source": [
    "df_main[df_main[\"label\"]==\"no-unit\"][\"text\"]"
   ]
  },
  {
   "cell_type": "code",
   "execution_count": null,
   "id": "7e92a742",
   "metadata": {},
   "outputs": [],
   "source": [
    "len_no_unit=df_main[df_main[\"label\"]==\"no-unit\"][\"text\"].apply(lambda x:len(x.split(\" \")))"
   ]
  },
  {
   "cell_type": "code",
   "execution_count": null,
   "id": "d11c2e25",
   "metadata": {},
   "outputs": [],
   "source": [
    "len_no_unit.value_counts().head()"
   ]
  },
  {
   "cell_type": "code",
   "execution_count": null,
   "id": "90e78d6d",
   "metadata": {},
   "outputs": [],
   "source": []
  },
  {
   "cell_type": "markdown",
   "id": "b69265c5",
   "metadata": {},
   "source": [
    "#### Feel that a lot of no unit labels consist of just a single punctuation\n",
    "#### Discarding these should be considered \n",
    "#### Makes the dataset very imbalanced "
   ]
  },
  {
   "cell_type": "code",
   "execution_count": null,
   "id": "e1c3f0c2",
   "metadata": {},
   "outputs": [],
   "source": []
  },
  {
   "cell_type": "code",
   "execution_count": null,
   "id": "4a116f57",
   "metadata": {},
   "outputs": [],
   "source": [
    "from sklearn import preprocessing\n",
    "le = preprocessing.LabelEncoder()\n",
    "df_main[\"label\"]=le.fit_transform(df_main[\"label\"])"
   ]
  },
  {
   "cell_type": "code",
   "execution_count": null,
   "id": "5fd5c95d",
   "metadata": {},
   "outputs": [],
   "source": [
    "X=df_main[\"text\"]\n",
    "y=df_main[\"label\"]"
   ]
  },
  {
   "cell_type": "code",
   "execution_count": null,
   "id": "94cf26bb",
   "metadata": {},
   "outputs": [],
   "source": [
    "y.head()"
   ]
  },
  {
   "cell_type": "code",
   "execution_count": null,
   "id": "d8ab1580",
   "metadata": {},
   "outputs": [],
   "source": [
    "X_train, X_test, y_train, y_test = train_test_split( X, y, test_size=0.20, random_state=42,stratify=y)"
   ]
  },
  {
   "cell_type": "code",
   "execution_count": null,
   "id": "cdb29409",
   "metadata": {},
   "outputs": [],
   "source": [
    "Train=pd.concat([X_train,y_train],axis=1)"
   ]
  },
  {
   "cell_type": "code",
   "execution_count": null,
   "id": "8a344182",
   "metadata": {},
   "outputs": [],
   "source": [
    "Test=pd.concat([X_test,y_test],axis=1)"
   ]
  },
  {
   "cell_type": "code",
   "execution_count": null,
   "id": "f0f1b125",
   "metadata": {},
   "outputs": [],
   "source": [
    "Train.to_csv(\"train.csv\",index=False)\n",
    "Test.to_csv(\"test.csv\",index=False)"
   ]
  },
  {
   "cell_type": "code",
   "execution_count": null,
   "id": "4d2238f6",
   "metadata": {},
   "outputs": [],
   "source": []
  },
  {
   "cell_type": "code",
   "execution_count": null,
   "id": "91006931",
   "metadata": {},
   "outputs": [],
   "source": []
  },
  {
   "cell_type": "code",
   "execution_count": null,
   "id": "7547b63f",
   "metadata": {},
   "outputs": [],
   "source": []
  },
  {
   "cell_type": "code",
   "execution_count": null,
   "id": "44084e53",
   "metadata": {},
   "outputs": [],
   "source": [
    "from datasets import load_dataset"
   ]
  },
  {
   "cell_type": "code",
   "execution_count": null,
   "id": "2cef21d8",
   "metadata": {},
   "outputs": [],
   "source": [
    "dataset = load_dataset('csv', data_files={'train': ['train.csv'],'test': 'test.csv'})"
   ]
  },
  {
   "cell_type": "code",
   "execution_count": null,
   "id": "4c1c47a8",
   "metadata": {},
   "outputs": [],
   "source": []
  },
  {
   "cell_type": "code",
   "execution_count": null,
   "id": "03570a40",
   "metadata": {},
   "outputs": [],
   "source": [
    "from transformers import AutoTokenizer\n",
    "tokenizer = AutoTokenizer.from_pretrained('distilbert-base-uncased')"
   ]
  },
  {
   "cell_type": "code",
   "execution_count": null,
   "id": "9958b7b5",
   "metadata": {},
   "outputs": [],
   "source": [
    "dataset"
   ]
  },
  {
   "cell_type": "code",
   "execution_count": null,
   "id": "bf64da16",
   "metadata": {},
   "outputs": [],
   "source": [
    "def tokenize_data(example):\n",
    "    return tokenizer(example['text'], padding='max_length',truncation=True)"
   ]
  },
  {
   "cell_type": "code",
   "execution_count": null,
   "id": "04e88ef7",
   "metadata": {},
   "outputs": [],
   "source": [
    "tokenized_datasets = dataset.map(tokenize_data, batched=True)"
   ]
  },
  {
   "cell_type": "code",
   "execution_count": null,
   "id": "bb6dd57d",
   "metadata": {},
   "outputs": [],
   "source": [
    "small_train_dataset = tokenized_datasets[\"train\"].shuffle(seed=42).select(range(5000))\n",
    "small_eval_dataset = tokenized_datasets[\"test\"].shuffle(seed=42).select(range(1000))"
   ]
  },
  {
   "cell_type": "code",
   "execution_count": null,
   "id": "04fed7cc",
   "metadata": {},
   "outputs": [],
   "source": [
    "tokenized_datasets"
   ]
  },
  {
   "cell_type": "code",
   "execution_count": null,
   "id": "ff81cf1f",
   "metadata": {},
   "outputs": [],
   "source": [
    "from transformers import AutoModelForSequenceClassification\n",
    "model = AutoModelForSequenceClassification.from_pretrained(\"distilbert-base-uncased\", num_labels=8)"
   ]
  },
  {
   "cell_type": "code",
   "execution_count": null,
   "id": "7fda3b27",
   "metadata": {},
   "outputs": [],
   "source": [
    "from transformers import TrainingArguments,Trainer\n",
    "\n",
    "training_args = TrainingArguments(\"test_trainer\", num_train_epochs=3)"
   ]
  },
  {
   "cell_type": "code",
   "execution_count": null,
   "id": "a5facc68",
   "metadata": {},
   "outputs": [],
   "source": [
    "\n",
    "from datasets import load_metric\n",
    "\n",
    "metric = load_metric(\"accuracy\")"
   ]
  },
  {
   "cell_type": "code",
   "execution_count": null,
   "id": "d2bc5ea8",
   "metadata": {},
   "outputs": [],
   "source": [
    "def compute_metrics(eval_pred):\n",
    "    logits, labels = eval_pred\n",
    "    predictions = np.argmax(logits, axis=-1)\n",
    "    return metric.compute(predictions=predictions, references=labels)"
   ]
  },
  {
   "cell_type": "code",
   "execution_count": null,
   "id": "ef027e64",
   "metadata": {},
   "outputs": [],
   "source": [
    "trainer = Trainer(\n",
    "    model=model,\n",
    "    args=training_args,\n",
    "    train_dataset=small_train_dataset,\n",
    "    eval_dataset=small_eval_dataset,\n",
    "    compute_metrics=compute_metrics,\n",
    ")"
   ]
  },
  {
   "cell_type": "code",
   "execution_count": null,
   "id": "fe2ffd2d",
   "metadata": {},
   "outputs": [],
   "source": [
    "trainer.train()"
   ]
  }
 ],
 "metadata": {
  "interpreter": {
   "hash": "ef0baf6d8be2d5e36d7cf9c55cfbad6339e5c1a472d19bff39d17af1061bd70a"
  },
  "kernelspec": {
   "display_name": "Python 3.8.10 ('ltp-project-JPCASTvD-py3.8')",
   "language": "python",
   "name": "python3"
  },
  "language_info": {
   "codemirror_mode": {
    "name": "ipython",
    "version": 3
   },
   "file_extension": ".py",
   "mimetype": "text/x-python",
   "name": "python",
   "nbconvert_exporter": "python",
   "pygments_lexer": "ipython3",
   "version": "3.8.10"
  }
 },
 "nbformat": 4,
 "nbformat_minor": 5
}
